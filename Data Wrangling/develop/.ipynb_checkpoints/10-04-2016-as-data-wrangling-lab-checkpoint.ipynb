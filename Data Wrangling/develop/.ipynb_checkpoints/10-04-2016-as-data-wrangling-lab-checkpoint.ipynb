{
 "cells": [
  {
   "cell_type": "markdown",
   "metadata": {},
   "source": [
    "# Data Wrangling\n",
    "Data analysts spends almost 70% of their time data wrangling. Data Wrangling is the process of **gathering**, **extracting**,**cleaning**, and **storing data**. Only after this process it is reasonable to start with the analysis."
   ]
  },
  {
   "cell_type": "code",
   "execution_count": 5,
   "metadata": {
    "collapsed": true
   },
   "outputs": [],
   "source": [
    "# Imports and Configurations\n",
    "import pandas as pd\n",
    "import numpy as np\n",
    "import matplotlib.pyplot as plt\n",
    "import os\n",
    "\n",
    "%matplotlib inline\n",
    "data_dir = '../data/'\n",
    "fig_prefix = '../figures/10-04-2016-as-data-wrangling-lab-'"
   ]
  },
  {
   "cell_type": "markdown",
   "metadata": {
    "collapsed": true
   },
   "source": [
    "## Data Extraction Fundamentals"
   ]
  },
  {
   "cell_type": "markdown",
   "metadata": {
    "collapsed": true
   },
   "source": [
    "### Parsing CSV File"
   ]
  },
  {
   "cell_type": "code",
   "execution_count": 6,
   "metadata": {
    "collapsed": false
   },
   "outputs": [
    {
     "name": "stdout",
     "output_type": "stream",
     "text": [
      "Title,Released,Label,UK Chart Position,US Chart Position,BPI Certification,RIAA Certification\n",
      "\n",
      "Please Please Me,22 March 1963,Parlophone(UK),1,-,Gold,Platinum\n",
      "\n",
      "With the Beatles,22 November 1963,Parlophone(UK),1,-,Platinum,Gold\n",
      "\n",
      "Beatlemania! With the Beatles,25 November 1963,Capitol(CAN),-,-,,\n",
      "\n",
      "Introducing... The Beatles,10 January 1964,Vee-Jay(US),-,2,,\n",
      "\n",
      "Meet the Beatles!,20 January 1964,Capitol(US),-,1,,5xPlatinum\n",
      "\n",
      "Twist and Shout,3 February 1964,Capitol(CAN),-,-,,\n",
      "\n",
      "The Beatles' Second Album,10 April 1964,Capitol(US),-,1,,2xPlatinum\n",
      "\n",
      "The Beatles' Long Tall Sally,11 May 1964,Capitol(CAN),-,-,,\n",
      "\n",
      "A Hard Day's Night,26 June 1964,United Artists(US)[C],-,1,,4xPlatinum,10 July 1964,Parlophone(UK),1,-,Gold,\n",
      "\n",
      "Something New,20 July 1964,Capitol(US),-,2,,Platinum\n",
      "\n",
      "Beatles for Sale,4 December 1964,Parlophone(UK),1,-,Gold,Platinum\n",
      "\n",
      "Beatles '65,15 December 1964,Capitol(US),-,1,,3xPlatinum\n",
      "\n",
      "Beatles VI,14 June 1965,\"Parlophone(NZ), Capitol(US)\",-,1,,Platinum\n",
      "\n",
      "Help!,6 August 1965,Parlophone(UK),1,-,Platinum,,13 August 1965,Capitol(US)[C],-,1,,3xPlatinum\n",
      "\n",
      "Rubber Soul,3 December 1965,Parlophone(UK),1,-,Platinum,,6 December 1965,Capitol(US)[C],-,1,,6xPlatinum\n",
      "\n",
      "Yesterday and Today,15 June 1966,Capitol(US),-,1,,2xPlatinum\n",
      "\n",
      "Revolver,5 August 1966,Parlophone(UK),1,-,Platinum,,8 August 1966,Capitol(US)[C],-,1,,5xPlatinum\n",
      "\n",
      "Sgt. Pepper's Lonely Hearts Club Band,1 June 1967,\"Parlophone(UK), Capitol(US)\",1,1,3xPlatinum,11xPlatinum\n",
      "\n",
      "Magical Mystery Tour,27 November 1967,\"Parlophone(UK), Capitol(US)\",31[D],1,Platinum,6xPlatinum\n",
      "\n",
      "The Beatles,22 November 1968,\"Apple(UK), Capitol(US)\",1,1,Platinum,19xPlatinum\n",
      "\n",
      "Yellow Submarine,13 January 1969,\"Apple(UK), Capitol(US)\",3,2,Silver,Platinum\n",
      "\n",
      "Abbey Road,26 September 1969,\"Apple(UK), Capitol(US)\",1,1,2xPlatinum,12xPlatinum\n",
      "\n",
      "Let It Be,8 May 1970,\"Apple(UK),United Artists(US)\",1,1,Gold,4xPlatinum\n"
     ]
    },
    {
     "ename": "IndexError",
     "evalue": "list index out of range",
     "output_type": "error",
     "traceback": [
      "\u001b[0;31m---------------------------------------------------------------------------\u001b[0m",
      "\u001b[0;31mIndexError\u001b[0m                                Traceback (most recent call last)",
      "\u001b[0;32m<ipython-input-6-24875b9ff64f>\u001b[0m in \u001b[0;36m<module>\u001b[0;34m()\u001b[0m\n\u001b[1;32m     19\u001b[0m \u001b[1;33m\u001b[0m\u001b[0m\n\u001b[1;32m     20\u001b[0m \u001b[1;33m\u001b[0m\u001b[0m\n\u001b[0;32m---> 21\u001b[0;31m \u001b[0mtest\u001b[0m\u001b[1;33m(\u001b[0m\u001b[1;33m)\u001b[0m\u001b[1;33m\u001b[0m\u001b[0m\n\u001b[0m",
      "\u001b[0;32m<ipython-input-6-24875b9ff64f>\u001b[0m in \u001b[0;36mtest\u001b[0;34m()\u001b[0m\n\u001b[1;32m     15\u001b[0m     \u001b[0mtenthline\u001b[0m \u001b[1;33m=\u001b[0m \u001b[1;33m{\u001b[0m\u001b[1;34m'Title'\u001b[0m\u001b[1;33m:\u001b[0m \u001b[1;34m''\u001b[0m\u001b[1;33m,\u001b[0m \u001b[1;34m'UK Chart Position'\u001b[0m\u001b[1;33m:\u001b[0m \u001b[1;34m'1'\u001b[0m\u001b[1;33m,\u001b[0m \u001b[1;34m'Label'\u001b[0m\u001b[1;33m:\u001b[0m \u001b[1;34m'Parlophone(UK)'\u001b[0m\u001b[1;33m,\u001b[0m \u001b[1;34m'Released'\u001b[0m\u001b[1;33m:\u001b[0m \u001b[1;34m'10 July 1964'\u001b[0m\u001b[1;33m,\u001b[0m \u001b[1;34m'US Chart Position'\u001b[0m\u001b[1;33m:\u001b[0m \u001b[1;34m'-'\u001b[0m\u001b[1;33m,\u001b[0m \u001b[1;34m'RIAA Certification'\u001b[0m\u001b[1;33m:\u001b[0m \u001b[1;34m''\u001b[0m\u001b[1;33m,\u001b[0m \u001b[1;34m'BPI Certification'\u001b[0m\u001b[1;33m:\u001b[0m \u001b[1;34m'Gold'\u001b[0m\u001b[1;33m}\u001b[0m\u001b[1;33m\u001b[0m\u001b[0m\n\u001b[1;32m     16\u001b[0m \u001b[1;33m\u001b[0m\u001b[0m\n\u001b[0;32m---> 17\u001b[0;31m     \u001b[1;32massert\u001b[0m \u001b[0md\u001b[0m\u001b[1;33m[\u001b[0m\u001b[1;36m0\u001b[0m\u001b[1;33m]\u001b[0m \u001b[1;33m==\u001b[0m \u001b[0mfirstline\u001b[0m\u001b[1;33m\u001b[0m\u001b[0m\n\u001b[0m\u001b[1;32m     18\u001b[0m     \u001b[1;32massert\u001b[0m \u001b[0md\u001b[0m\u001b[1;33m[\u001b[0m\u001b[1;36m9\u001b[0m\u001b[1;33m]\u001b[0m \u001b[1;33m==\u001b[0m \u001b[0mtenthline\u001b[0m\u001b[1;33m\u001b[0m\u001b[0m\n\u001b[1;32m     19\u001b[0m \u001b[1;33m\u001b[0m\u001b[0m\n",
      "\u001b[0;31mIndexError\u001b[0m: list index out of range"
     ]
    }
   ],
   "source": [
    "data_file = 'beatles-diskography.csv'\n",
    "\n",
    "def parse_file(datafile):\n",
    "    data = []\n",
    "    with open(datafile, \"r\") as f:\n",
    "        for line in f:\n",
    "            print line\n",
    "            line.split\n",
    "    return data\n",
    "\n",
    "def test():\n",
    "    # a simple test of your implemetation\n",
    "    datafile = os.path.join(data_dir, data_file)\n",
    "    d = parse_file(datafile)\n",
    "    firstline = {'Title': 'Please Please Me', 'UK Chart Position': '1', 'Label': 'Parlophone(UK)', 'Released': '22 March 1963', 'US Chart Position': '-', 'RIAA Certification': 'Platinum', 'BPI Certification': 'Gold'}\n",
    "    tenthline = {'Title': '', 'UK Chart Position': '1', 'Label': 'Parlophone(UK)', 'Released': '10 July 1964', 'US Chart Position': '-', 'RIAA Certification': '', 'BPI Certification': 'Gold'}\n",
    "\n",
    "    assert d[0] == firstline\n",
    "    assert d[9] == tenthline\n",
    "\n",
    "    \n",
    "test()"
   ]
  },
  {
   "cell_type": "code",
   "execution_count": null,
   "metadata": {
    "collapsed": true
   },
   "outputs": [],
   "source": []
  }
 ],
 "metadata": {
  "anaconda-cloud": {},
  "kernelspec": {
   "display_name": "Python [py27]",
   "language": "python",
   "name": "Python [py27]"
  },
  "language_info": {
   "codemirror_mode": {
    "name": "ipython",
    "version": 2
   },
   "file_extension": ".py",
   "mimetype": "text/x-python",
   "name": "python",
   "nbconvert_exporter": "python",
   "pygments_lexer": "ipython2",
   "version": "2.7.12"
  }
 },
 "nbformat": 4,
 "nbformat_minor": 0
}
