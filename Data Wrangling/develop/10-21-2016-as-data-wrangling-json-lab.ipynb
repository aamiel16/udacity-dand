{
 "cells": [
  {
   "cell_type": "markdown",
   "metadata": {},
   "source": [
    "# Data Wrangling and JSON"
   ]
  },
  {
   "cell_type": "markdown",
   "metadata": {
    "collapsed": true
   },
   "source": [
    "## Sections:\n",
    "   - <a href='#intro'>Introduction to JSON</a>\n",
    "   - <a href='#body1'>Python and JSON</a>"
   ]
  },
  {
   "cell_type": "markdown",
   "metadata": {},
   "source": [
    "<a id='intro' />"
   ]
  },
  {
   "cell_type": "markdown",
   "metadata": {
    "collapsed": true
   },
   "source": [
    "## Introduction to JSON\n",
    "\n",
    "### What is JSON?\n",
    "JSON stands for **Java Script Object Notation**, it is a lightweight text-based open standard designed for human-readable data interchange. \n",
    "\n",
    "In JSON, \n",
    "- data is presented in name-value pairs\n",
    "- curly brackets hold the objects and each name is followed by a colon\n",
    "- the name/value pairs are seperated by a comma\n",
    "- square brackets hold arrays and values are seperated by a comma\n",
    "\n",
    "### Uses of JSON:\n",
    "- JSON format is used for serializing and transmitting structured data over network connection.\n",
    "- It is mainly used to transmit data between a server and web application. \n",
    "- It acts as a placeholder for the data.\n",
    "- It can be used with modern programming languages.\n",
    "\n",
    "### Characteristics of JSON:\n",
    "- Readability; easy to read and interpret\n",
    "- Lightweight\n",
    "- Language Independent\n",
    "\n",
    "### Why use JSON over CSVs?\n",
    "It is limited to represent some data in tabular format or in CSVs. In some situations, some data have fields and others have additional subfields, if we were to use CSVs, we may find it hard to represent the given data."
   ]
  },
  {
   "cell_type": "markdown",
   "metadata": {
    "collapsed": true
   },
   "source": [
    "### Example of JSON"
   ]
  },
  {
   "cell_type": "markdown",
   "metadata": {
    "collapsed": true
   },
   "source": [
    "```python\n",
    "{\n",
    "    \"book\":[\n",
    "        {'id':'01',\n",
    "        'language':'Java',\n",
    "        'edition':'third',\n",
    "        'author':'Herbert Shildt'},\n",
    "        {'id':'02',\n",
    "        'language':'Python',\n",
    "        'edition':'first',\n",
    "        'author':'Mark Lutz'}\n",
    "    ]\n",
    "}\n",
    "```\n",
    "> As you can see, JSON is similar to a Python's Dictionary, and to a Python's List "
   ]
  },
  {
   "cell_type": "markdown",
   "metadata": {},
   "source": [
    "<a id='body1' />"
   ]
  },
  {
   "cell_type": "markdown",
   "metadata": {},
   "source": [
    "## Python and JSON"
   ]
  },
  {
   "cell_type": "code",
   "execution_count": null,
   "metadata": {
    "collapsed": true
   },
   "outputs": [],
   "source": []
  }
 ],
 "metadata": {
  "anaconda-cloud": {},
  "kernelspec": {
   "display_name": "Python [py27]",
   "language": "python",
   "name": "Python [py27]"
  },
  "language_info": {
   "codemirror_mode": {
    "name": "ipython",
    "version": 2
   },
   "file_extension": ".py",
   "mimetype": "text/x-python",
   "name": "python",
   "nbconvert_exporter": "python",
   "pygments_lexer": "ipython2",
   "version": "2.7.12"
  }
 },
 "nbformat": 4,
 "nbformat_minor": 0
}
