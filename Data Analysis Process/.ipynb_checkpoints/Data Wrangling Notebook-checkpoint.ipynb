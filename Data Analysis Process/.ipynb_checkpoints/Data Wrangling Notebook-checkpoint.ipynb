{
 "cells": [
  {
   "cell_type": "markdown",
   "metadata": {},
   "source": [
    "# Data Analysis Process\n",
    "The data analysis process includes the following steps:\n",
    "   * **Questioning Phase**\n",
    "   * **Data Wrangling Phase**\n",
    "   * **Data Exploration Phase**\n",
    "   * **Drawing Conclusion Phase**\n",
    "   * **Communication Phase**\n",
    "\n",
    "This notebook is consisted of notes regarding the two major steps of the data analysis process - *Data Wrangling* and *Data Exploration*\n",
    "\n",
    "***Important Notes:***\n",
    "   - Exploring your data is never a waste of time for a data analyst\n",
    "    "
   ]
  },
  {
   "cell_type": "markdown",
   "metadata": {},
   "source": [
    "# References:\n",
    "\n",
    "Python collections + defaultdict: https://docs.python.org/2/library/collections.html#collections.defaultdict"
   ]
  },
  {
   "cell_type": "markdown",
   "metadata": {},
   "source": [
    "## Data Wrangling and Python\n",
    "**Data Wrangling** or **Data Munging** is loosely the process of manually converting or mapping data from one *\"raw\"* form into another format that allows for more convenient consumption of the data with the help of semi-automated tools. There are two sub-steps under the Data Wrangling: **Data Acquisition** and **Data Cleaning**"
   ]
  },
  {
   "cell_type": "markdown",
   "metadata": {},
   "source": [
    "## Data Acquisition and Python"
   ]
  },
  {
   "cell_type": "code",
   "execution_count": 4,
   "metadata": {
    "collapsed": false
   },
   "outputs": [],
   "source": [
    "# Using Python's unicodecsv module\n",
    "import unicodecsv\n",
    "\n",
    "# A function for reading csv files\n",
    "def unicsv_dictReader(filename):\n",
    "    file_pointer = open(filename, 'rb')\n",
    "    return list(unicodecsv.DictReader(file_pointer))\n",
    "\n",
    "# Acquiring data using the unicsv_dictReader function\n",
    "daily_engagement = unicsv_dictReader(\"data/daily_engagement.csv\")\n",
    "enrollments = unicsv_dictReader(\"data/enrollments.csv\")\n",
    "project_submissions = unicsv_dictReader(\"data/project_submissions.csv\")"
   ]
  },
  {
   "cell_type": "markdown",
   "metadata": {
    "collapsed": true
   },
   "source": [
    "## Data Cleaning and Phyton\n",
    "\n",
    "**Data Cleansing**, also called **Data Scrubbing**, is the process of amending or removing data in a database that is incorrect, incomplete, improperly formatted, or duplicated."
   ]
  },
  {
   "cell_type": "code",
   "execution_count": 5,
   "metadata": {
    "collapsed": false
   },
   "outputs": [],
   "source": [
    "# A function for parsing string dates to datetime objects\n",
    "from datetime import datetime\n",
    "\n",
    "def parse_date(str_date):\n",
    "    if(str_date==\"\"):    \n",
    "        return None\n",
    "    #elif(str_date==None):\n",
    "    #    return None\n",
    "    #elif(isinstance(str_date, datetime)):   # if the argument is already datetime, return the argument\n",
    "    #    return str_date\n",
    "    else:\n",
    "        return datetime.strptime(str_date, '%Y-%m-%d')"
   ]
  },
  {
   "cell_type": "markdown",
   "metadata": {},
   "source": [
    "### Cleaning daily_engagement.csv"
   ]
  },
  {
   "cell_type": "code",
   "execution_count": 6,
   "metadata": {
    "collapsed": false
   },
   "outputs": [
    {
     "data": {
      "text/plain": [
       "{u'acct': u'0',\n",
       " u'lessons_completed': 0,\n",
       " u'num_courses_visited': 1,\n",
       " u'projects_completed': 0,\n",
       " u'total_minutes_visited': 11.6793745,\n",
       " u'utc_date': datetime.datetime(2015, 1, 9, 0, 0)}"
      ]
     },
     "execution_count": 6,
     "metadata": {},
     "output_type": "execute_result"
    }
   ],
   "source": [
    "# Cleaning daily_engagement.csv\n",
    "for listItem in daily_engagement:\n",
    "    \n",
    "    listItem['lessons_completed'] = int(float(listItem['lessons_completed']))\n",
    "    listItem['num_courses_visited'] = int(float(listItem['num_courses_visited']))\n",
    "    listItem['projects_completed'] = int(float(listItem['projects_completed']))\n",
    "    \n",
    "    listItem['total_minutes_visited'] = float(listItem['total_minutes_visited'])\n",
    "    \n",
    "    listItem['utc_date'] = parse_date(listItem['utc_date'])\n",
    "    \n",
    "daily_engagement[0]"
   ]
  },
  {
   "cell_type": "markdown",
   "metadata": {},
   "source": [
    "### Changing 'acct' key to 'account_key' in daily_engagement.csv"
   ]
  },
  {
   "cell_type": "code",
   "execution_count": 7,
   "metadata": {
    "collapsed": false
   },
   "outputs": [
    {
     "data": {
      "text/plain": [
       "{'account_key': u'0',\n",
       " u'lessons_completed': 0,\n",
       " u'num_courses_visited': 1,\n",
       " u'projects_completed': 0,\n",
       " u'total_minutes_visited': 11.6793745,\n",
       " u'utc_date': datetime.datetime(2015, 1, 9, 0, 0)}"
      ]
     },
     "execution_count": 7,
     "metadata": {},
     "output_type": "execute_result"
    }
   ],
   "source": [
    "for dict_item in daily_engagement:\n",
    "    dict_item[\"account_key\"] = dict_item[\"acct\"]\n",
    "    del dict_item[\"acct\"]\n",
    "daily_engagement[0]"
   ]
  },
  {
   "cell_type": "markdown",
   "metadata": {},
   "source": [
    "### Cleaning enrollments.csv"
   ]
  },
  {
   "cell_type": "code",
   "execution_count": 8,
   "metadata": {
    "collapsed": false
   },
   "outputs": [
    {
     "data": {
      "text/plain": [
       "{u'account_key': u'448',\n",
       " u'cancel_date': datetime.datetime(2015, 1, 14, 0, 0),\n",
       " u'days_to_cancel': 65,\n",
       " u'is_canceled': True,\n",
       " u'is_udacity': True,\n",
       " u'join_date': datetime.datetime(2014, 11, 10, 0, 0),\n",
       " u'status': 'canceled'}"
      ]
     },
     "execution_count": 8,
     "metadata": {},
     "output_type": "execute_result"
    }
   ],
   "source": [
    "# Cleaning enrollments.csv\n",
    "def parse_maybe_int(i):\n",
    "    if (i == ''):\n",
    "        return None\n",
    "    else:\n",
    "        return int(i)\n",
    "\n",
    "for listItem in enrollments:\n",
    "    \n",
    "    listItem['status'] = str(listItem['status'])\n",
    "    \n",
    "    listItem['is_udacity'] = listItem['is_udacity']=='True'\n",
    "    listItem['is_canceled'] = listItem['is_canceled']=='True'\n",
    "    \n",
    "    listItem['join_date'] = parse_date(listItem['join_date'])\n",
    "    listItem['cancel_date'] = parse_date(listItem['cancel_date'])\n",
    "    \n",
    "    listItem['days_to_cancel'] = parse_maybe_int(listItem['days_to_cancel'])\n",
    "    \n",
    "    #listItem['days_to_cancel'] = int((listItem['days_to_cancel'])) if (listItem['days_to_cancel']!='') else None  #ternary operator\n",
    "    #another way of writing the ternary conditional operator\n",
    "    #(false,true)[condition] - access the tuple element by the condition. (tuple)[0]-false (tuple)[1]-true\n",
    "    #listItem['days_to_cancel'] = [0,int((listItem['days_to_cancel']))][listItem['days_to_cancel']!=\"\"]\n",
    "    \n",
    "enrollments[0]"
   ]
  },
  {
   "cell_type": "markdown",
   "metadata": {},
   "source": [
    "### Cleaning project_submissions.csv"
   ]
  },
  {
   "cell_type": "code",
   "execution_count": 9,
   "metadata": {
    "collapsed": false
   },
   "outputs": [
    {
     "data": {
      "text/plain": [
       "{u'account_key': u'256',\n",
       " u'assigned_rating': u'UNGRADED',\n",
       " u'completion_date': datetime.datetime(2015, 1, 16, 0, 0),\n",
       " u'creation_date': datetime.datetime(2015, 1, 14, 0, 0),\n",
       " u'lesson_key': u'3176718735',\n",
       " u'processing_state': u'EVALUATED'}"
      ]
     },
     "execution_count": 9,
     "metadata": {},
     "output_type": "execute_result"
    }
   ],
   "source": [
    "# Cleaning project_submissions.csv\n",
    "for listItem in project_submissions:\n",
    "    listItem['completion_date'] = parse_date(listItem['completion_date'])\n",
    "    listItem['creation_date'] = parse_date(listItem['creation_date'])\n",
    "    \n",
    "project_submissions[0]"
   ]
  },
  {
   "cell_type": "markdown",
   "metadata": {},
   "source": [
    "### Counting the total number of rows & unique students for each CSV file"
   ]
  },
  {
   "cell_type": "code",
   "execution_count": 10,
   "metadata": {
    "collapsed": true
   },
   "outputs": [],
   "source": [
    "# Count the total number of unique accounts for each CSV file\n",
    "\n",
    "def getUniqKeySet(csv_list):    \n",
    "    #SHORTER WAY BY USING SETS\n",
    "    uniq_keySet = set()\n",
    "    for dict_temp in csv_list:\n",
    "        uniq_keySet.add(dict_temp['account_key'])\n",
    "    return uniq_keySet\n",
    "    \n",
    "    #IF ACCOUNT KEYS ARE DIFFERENT\n",
    "    #if (\"account_key\" in csv_list[0].keys()):\n",
    "    #    temp_key = \"account_key\"\n",
    "    #else:\n",
    "    #    temp_key = \"acct\"\n",
    "    \n",
    "    #LONG WAY BY USING LIST\n",
    "    #uniq_keyList = []\n",
    "    #for dict_temp in csv_list:\n",
    "    #    if (not dict_temp[temp_key] in uniq_keyList):\n",
    "    #        uniq_keyList.append(dict_temp[temp_key])\n",
    "    #\n",
    "    #return len(uniq_keyList)"
   ]
  },
  {
   "cell_type": "markdown",
   "metadata": {},
   "source": [
    "#### For daily_engagement.csv"
   ]
  },
  {
   "cell_type": "code",
   "execution_count": 11,
   "metadata": {
    "collapsed": false
   },
   "outputs": [
    {
     "name": "stdout",
     "output_type": "stream",
     "text": [
      "Number of rows: 136240\n",
      "Number of unique students: 1237\n"
     ]
    }
   ],
   "source": [
    "# Contains every unique student's and udacity's test account keys \n",
    "engagement_unique_key_set = getUniqKeySet(daily_engagement)\n",
    "engagement_num_rows = len(daily_engagement)\n",
    "engagement_num_unique_students = len(engagement_unique_key_set)\n",
    "\n",
    "print \"Number of rows: %d\" % engagement_num_rows\n",
    "print \"Number of unique students: %d\" % engagement_num_unique_students"
   ]
  },
  {
   "cell_type": "markdown",
   "metadata": {},
   "source": [
    "#### For enrollments.csv"
   ]
  },
  {
   "cell_type": "code",
   "execution_count": 12,
   "metadata": {
    "collapsed": false
   },
   "outputs": [
    {
     "name": "stdout",
     "output_type": "stream",
     "text": [
      "Number of rows: 1640\n",
      "Number of unique students: 1302\n"
     ]
    }
   ],
   "source": [
    "# Contains every unique student's and udacity's test account keys\n",
    "enrollments_unique_key_set = getUniqKeySet(enrollments)\n",
    "enrollments_num_rows = len(enrollments)\n",
    "enrollments_num_unique_students = len(enrollments_unique_key_set)\n",
    "\n",
    "print \"Number of rows: %d\" % enrollments_num_rows\n",
    "print \"Number of unique students: %d\" % enrollments_num_unique_students"
   ]
  },
  {
   "cell_type": "markdown",
   "metadata": {
    "collapsed": false
   },
   "source": [
    "#### For projects_submission.csv"
   ]
  },
  {
   "cell_type": "code",
   "execution_count": 13,
   "metadata": {
    "collapsed": false
   },
   "outputs": [
    {
     "name": "stdout",
     "output_type": "stream",
     "text": [
      "Number of rows: 3642\n",
      "Number of unique students: 743\n"
     ]
    }
   ],
   "source": [
    "# Contains every unique student's and udacity's test account keys\n",
    "submission_unique_key_set = getUniqKeySet(project_submissions)\n",
    "submissions_num_rows = len(project_submissions)\n",
    "submissions_num_unique_students = len(submission_unique_key_set)\n",
    "\n",
    "print \"Number of rows: %d\" % submissions_num_rows\n",
    "print \"Number of unique students: %d\" % submissions_num_unique_students"
   ]
  },
  {
   "cell_type": "markdown",
   "metadata": {},
   "source": [
    "### Counting the number of students with no engagement"
   ]
  },
  {
   "cell_type": "markdown",
   "metadata": {
    "collapsed": true
   },
   "source": [
    "**Problem Identified:** The number of unique students in the enrollment.csv is greater than the unqiue students in the daily_engagement.csv. \n",
    "\n",
    "**Explanation:** The students may have enrolled and canceled on the same day which resulted for them not to be included in daily_engagement.csv"
   ]
  },
  {
   "cell_type": "code",
   "execution_count": 14,
   "metadata": {
    "collapsed": false
   },
   "outputs": [
    {
     "name": "stdout",
     "output_type": "stream",
     "text": [
      "Students with no engagement: 65\n"
     ]
    }
   ],
   "source": [
    "# Check students that are in the enrollment.csv but not in daily_engagement.csv\n",
    "num_student_enrollment_noEngagement = 0\n",
    "for enrollment_key in enrollments_unique_key_set:\n",
    "    if (enrollment_key not in engagement_unique_key_set):\n",
    "        num_student_enrollment_noEngagement+=1\n",
    "        \n",
    "print \"Students with no engagement: %d\" % (num_student_enrollment_noEngagement)"
   ]
  },
  {
   "cell_type": "markdown",
   "metadata": {},
   "source": [
    "**Additional Problem:** Are all the students that have no engagement record, enrolled and canceled on the same day?\n",
    "\n",
    "**Explanation:** Yes, and all of these student records are Udacity's test accounts. Hence, must be removed."
   ]
  },
  {
   "cell_type": "code",
   "execution_count": 15,
   "metadata": {
    "collapsed": false
   },
   "outputs": [
    {
     "name": "stdout",
     "output_type": "stream",
     "text": [
      "Students with no engagement and enrolled for more than a day: 3\n"
     ]
    }
   ],
   "source": [
    "# Check if there are students that enrolled for 1 day or more, that have no engagement\n",
    "student_with_problem_list = []\n",
    "\n",
    "for enrollment in enrollments:\n",
    "    student = enrollment['account_key']\n",
    "    if ((student not in engagement_unique_key_set) and (enrollment['join_date']!=enrollment['cancel_date'])):\n",
    "        student_with_problem_list.append(enrollment)\n",
    "\n",
    "print \"Students with no engagement and enrolled for more than a day: %d\" % len(student_with_problem_list)\n",
    "#student_with_problem_list   # students in this list are udacity test accounts"
   ]
  },
  {
   "cell_type": "markdown",
   "metadata": {
    "collapsed": false
   },
   "source": [
    "**Solution:** Remove Udacity's test accounts in the records "
   ]
  },
  {
   "cell_type": "markdown",
   "metadata": {},
   "source": [
    "### Removing Udacity's test accounts in records\n",
    "\n",
    "Since most of the students that have enrolled for more than a day, and have no engagement are Udacity's test accounts; we must remove it."
   ]
  },
  {
   "cell_type": "code",
   "execution_count": 16,
   "metadata": {
    "collapsed": false
   },
   "outputs": [],
   "source": [
    "# Get all Udacity's test account keys\n",
    "student_is_udacity_keySet = set()   # Set that contains the account keys of every Udacity test account\n",
    "\n",
    "for enrollment in enrollments:\n",
    "    if (enrollment['is_udacity']==True):\n",
    "        student_is_udacity_keySet.add(enrollment['account_key'])\n",
    "\n",
    "# Remove all Udacity's test account in every record: enrollments, daily_engagement, project_submissions\n",
    "def remove_account(csvList,keySet):\n",
    "    \"Adds records with 'account_key' not in keySet from csvList\"\n",
    "    csvList = [csvlist_item for csvlist_item in csvList if (csvlist_item['account_key'] not in keySet)]\n",
    "    return csvList"
   ]
  },
  {
   "cell_type": "code",
   "execution_count": 17,
   "metadata": {
    "collapsed": false
   },
   "outputs": [
    {
     "name": "stdout",
     "output_type": "stream",
     "text": [
      "Number of non-Udacity test accounts in enrollments: 1622\n",
      "Number of non-Udacity test accounts in daily_engagement: 135656\n",
      "Number of non-Udacity test accounts in project_submissions: 3634\n"
     ]
    }
   ],
   "source": [
    "# There are 18 udacity accounts\n",
    "#print \"Number before in enrollments: %d\" % len(enrollments)\n",
    "#print \"Number before in enrollments: %d\" % len(daily_engagement)\n",
    "#print \"Number before in enrollments: %d\" % len(project_submissions)\n",
    "\n",
    "non_udacity_enrollments = remove_account(enrollments,student_is_udacity_keySet)\n",
    "non_udacity_daily_engagement = remove_account(daily_engagement,student_is_udacity_keySet)\n",
    "non_udacity_project_submissions = remove_account(project_submissions, student_is_udacity_keySet)\n",
    "\n",
    "print \"Number of non-Udacity test accounts in enrollments: %d\" % len(non_udacity_enrollments)\n",
    "print \"Number of non-Udacity test accounts in daily_engagement: %d\" % len(non_udacity_daily_engagement)\n",
    "print \"Number of non-Udacity test accounts in project_submissions: %d\" % len(non_udacity_project_submissions)"
   ]
  },
  {
   "cell_type": "markdown",
   "metadata": {},
   "source": [
    "## Data Exploration and Python"
   ]
  },
  {
   "cell_type": "markdown",
   "metadata": {
    "collapsed": true
   },
   "source": [
    "**Data Exploration** is a step in data analysis and typically involves summarizing the main characteristics of a dataset. It is commonly conducted using visual analytics tools, but can also be done in more advanced statistical software, such as R."
   ]
  },
  {
   "cell_type": "markdown",
   "metadata": {},
   "source": [
    "**Question:** How do numbers in the daily engagement table differ for students who pass the first project.\n",
    "\n",
    "**Problems:** \n",
    "\n",
    "   **<p>1. This will include data from after the project submission:</p>**\n",
    "   - We are not concerned regarding the data after the first subject has been submitted. Hence, we would only be looking at the engagement data from before the submission of the first project.\n",
    "  \n",
    "      \n",
    "   **<p>2. This compares data from different lengths of time:</p>**\n",
    "   - If we will look at the engagement data after the submission of the first project, then we might be comparing different lengths of time. And since there might be a trend for student's daily engagement (i.e. Engagement might tend to drop off after the first few days), comparing one month of student, can be misleading if we were to compare it for two months of another student.\n",
    "      \n",
    "      \n",
    "   **<p>3. Includes engagament in course not related to the first project</p>**\n",
    "   - Since the engagement data includes engagement data on other courses that is not related to the first subject, which can be a little weird for the data (i.e. A student may look into another course before submitting the first subject)\n",
    "     \n",
    "**Revision:** Only look at engagement from first week, and exclude students who cancel within a week. In this way:\n",
    "\n",
    "   - we would be comparing the student's engagement in equal amounts of time (that is 1 week);\n",
    "   \n",
    "   - we would also have the benefit of excluding people who have cancelled during the free trial, which was 7 days at the time this data was collected (i.e. *days_to_cancel <= 7*)"
   ]
  },
  {
   "cell_type": "markdown",
   "metadata": {},
   "source": [
    "### Creating a dictionary of students\n",
    "\n",
    "Create a dicitonary of students who either:\n",
    "\n",
    "  - haven't canceled yet *(days_to_cancel = None)*\n",
    "  \n",
    "  - stayed enrolled for more than 7 days *(days_to_cancel > 7)*\n",
    "  \n",
    "*paid_students = [{'account_keys':enrollment_date}, {'account_keys':enrollment_date}, ... ]*"
   ]
  },
  {
   "cell_type": "code",
   "execution_count": 18,
   "metadata": {
    "collapsed": false
   },
   "outputs": [
    {
     "data": {
      "text/plain": [
       "{u'account_key': u'700',\n",
       " u'cancel_date': datetime.datetime(2014, 11, 16, 0, 0),\n",
       " u'days_to_cancel': 6,\n",
       " u'is_canceled': True,\n",
       " u'is_udacity': False,\n",
       " u'join_date': datetime.datetime(2014, 11, 10, 0, 0),\n",
       " u'status': 'canceled'}"
      ]
     },
     "execution_count": 18,
     "metadata": {},
     "output_type": "execute_result"
    }
   ],
   "source": [
    "non_udacity_enrollments[0]"
   ]
  },
  {
   "cell_type": "code",
   "execution_count": 19,
   "metadata": {
    "collapsed": false
   },
   "outputs": [
    {
     "data": {
      "text/plain": [
       "995"
      ]
     },
     "execution_count": 19,
     "metadata": {},
     "output_type": "execute_result"
    }
   ],
   "source": [
    "# Creating a dictionary of paid students based on the enrollments.csv\n",
    "paid_students = {}   # Creates an empty list\n",
    "for enrollment in non_udacity_enrollments:  # Get data from non-udacity test accounts\n",
    "        if ( (not enrollment['is_canceled']) or (enrollment['days_to_cancel']>7) ):  # Student is paid account\n",
    "            dict_key = enrollment['account_key'] # Store account key\n",
    "            dict_value = enrollment['join_date'] # Store enrollment date\n",
    "            \n",
    "            if ((dict_key not in paid_students) or \\\n",
    "                    (dict_value>paid_students[dict_key])): \n",
    "                paid_students[dict_key] = dict_value # Add student to dictionary if key is not yet in OR the enrollment day is the latest\n",
    "                \n",
    "len(paid_students)        "
   ]
  },
  {
   "cell_type": "markdown",
   "metadata": {},
   "source": [
    "### Removing the free trial accounts in each CSV\n",
    "\n",
    "Since we already have a list of students who have enrolled for more than a week, and payed for the course, we can start narrowing the data some more. That is, create a list of students that non trial accounts from each csv."
   ]
  },
  {
   "cell_type": "code",
   "execution_count": 20,
   "metadata": {
    "collapsed": false
   },
   "outputs": [],
   "source": [
    "# Function that determines if two dates are within a week each other\n",
    "def within_one_week(join_date, engagement_date):\n",
    "    delta_date = engagement_date - join_date\n",
    "    return (delta_date.days < 7 and delta_date.days >= 0)\n",
    "\n",
    "# Function that removes the free_trial accounts in the given list\n",
    "def remove_free_trial_cancels(csv_list):\n",
    "    newList = []\n",
    "    for data in csv_list:\n",
    "        if(data['account_key'] in paid_students):\n",
    "            newList.append(data)\n",
    "    \n",
    "    return newList"
   ]
  },
  {
   "cell_type": "code",
   "execution_count": 21,
   "metadata": {
    "collapsed": false
   },
   "outputs": [
    {
     "name": "stdout",
     "output_type": "stream",
     "text": [
      "Number of paid students under the enrollment.csv: 1293\n",
      "Number of paid students under the daily_engagemebt.csv: 134549\n",
      "Number of paid students under the project_submissions.csv: 3618\n"
     ]
    }
   ],
   "source": [
    "# Contains the data of all the Udacity Students that have paid at least once\n",
    "# The data used here came from the non-Udacity test accounts data\n",
    "paid_enrollments = remove_free_trial_cancels(non_udacity_enrollments)\n",
    "paid_engagement = remove_free_trial_cancels(non_udacity_daily_engagement)\n",
    "paid_submissions = remove_free_trial_cancels(non_udacity_project_submissions)\n",
    "\n",
    "print 'Number of paid students under the enrollment.csv: %d' % len(paid_enrollments)\n",
    "print 'Number of paid students under the daily_engagemebt.csv: %d' % len(paid_engagement)\n",
    "print 'Number of paid students under the project_submissions.csv: %d' % len(paid_submissions)"
   ]
  },
  {
   "cell_type": "markdown",
   "metadata": {},
   "source": [
    "### Adding the 'has_visited' key-value pair\n",
    "\n",
    "Adding a 'has_visited' key-value pair in the paid_engagement data, which would be used later to compute for the number of days an account has visited the Udacity Home within the first week."
   ]
  },
  {
   "cell_type": "code",
   "execution_count": 22,
   "metadata": {
    "collapsed": true
   },
   "outputs": [],
   "source": [
    "for engagement_record in paid_engagement:\n",
    "    if engagement_record['num_courses_visited'] > 0:\n",
    "        engagement_record['has_visited'] = 1\n",
    "    else:\n",
    "        engagement_record['has_visited'] = 0"
   ]
  },
  {
   "cell_type": "markdown",
   "metadata": {},
   "source": [
    "### Getting the engagement data of the paid students\n",
    "\n",
    "Create a new list that contains the engagement data of the paid students identified before, and student's join date is within one week of the student's join date."
   ]
  },
  {
   "cell_type": "code",
   "execution_count": 23,
   "metadata": {
    "collapsed": false
   },
   "outputs": [
    {
     "data": {
      "text/plain": [
       "6919"
      ]
     },
     "execution_count": 23,
     "metadata": {},
     "output_type": "execute_result"
    }
   ],
   "source": [
    "# This list contains the engagement data of students in their first week\n",
    "paid_engagement_in_first_week = []\n",
    "\n",
    "for engagement in paid_engagement:\n",
    "    if (within_one_week(paid_students[engagement['account_key']], engagement['utc_date']) ):\n",
    "        paid_engagement_in_first_week.append(engagement)\n",
    "    \n",
    "len(paid_engagement_in_first_week)"
   ]
  },
  {
   "cell_type": "markdown",
   "metadata": {},
   "source": [
    "### Computing for the average minutes spent in classroom\n",
    "\n",
    "Since the paid_engagement_in_first_week contains an unordered list of students with there account keys and engagement date, we want to:\n",
    "\n",
    "   - Group the engagement data per student. That is, create a dictionary mapping with account keys and the list of that account's engagement data."
   ]
  },
  {
   "cell_type": "markdown",
   "metadata": {},
   "source": [
    "### Categorizing engagement times into each student\n",
    "\n",
    "To do this, we must use Python's collections, specifically collections.defaultdict.\n",
    "\n",
    "Example:\n",
    "\n",
    "    s = [('yellow', 1), ('blue', 2), ('yellow', 3), ('blue', 4), ('red', 1)]\n",
    "    d = defaultdict(list)\n",
    "    for k, v in s:\n",
    "         d[k].append(v)\n",
    "    d.items()\n",
    "    [('blue', [2, 4]), ('red', [1]), ('yellow', [1, 3])]"
   ]
  },
  {
   "cell_type": "markdown",
   "metadata": {},
   "source": [
    "### Categorizing the engagement record per account type"
   ]
  },
  {
   "cell_type": "code",
   "execution_count": 24,
   "metadata": {
    "collapsed": false
   },
   "outputs": [
    {
     "data": {
      "text/plain": [
       "995"
      ]
     },
     "execution_count": 24,
     "metadata": {},
     "output_type": "execute_result"
    }
   ],
   "source": [
    "# Trying to use the collections.defaultdict\n",
    "# It worked! :D\n",
    "from collections import defaultdict\n",
    "\n",
    "engagement_by_account = defaultdict(list) #defaultdict(list) if you try to look up an invalid key, it will return empty list\n",
    "\n",
    "for engagement in paid_engagement_in_first_week:\n",
    "    # Appending the whole engagement would make the dictionary values be list of dictionary engagement records\n",
    "    engagement_by_account[engagement['account_key']].append(engagement)  \n",
    "    \n",
    "len(engagement_by_account)"
   ]
  },
  {
   "cell_type": "markdown",
   "metadata": {},
   "source": [
    "### Creating a function for grouping data"
   ]
  },
  {
   "cell_type": "code",
   "execution_count": 25,
   "metadata": {
    "collapsed": false
   },
   "outputs": [
    {
     "name": "stderr",
     "output_type": "stream",
     "text": [
      "C:\\Users\\Adrian\\Anaconda3\\envs\\py27\\lib\\site-packages\\IPython\\html.py:14: ShimWarning: The `IPython.html` package has been deprecated. You should import from `notebook` instead. `IPython.html.widgets` has moved to `ipywidgets`.\n",
      "  \"`IPython.html.widgets` has moved to `ipywidgets`.\", ShimWarning)\n"
     ]
    }
   ],
   "source": [
    "# Function that would group the data according to the given key \n",
    "# i.e If the given key is 'lessons_completed', then the key will be lessons_completed and the values are the list of\n",
    "#     dictionaries having the same values under the lessons_completed key\n",
    "def group_data(data, key_name):\n",
    "    grouped_data = defaultdict(list)\n",
    "    for data_point in data:\n",
    "        key = data_point[key_name]\n",
    "        grouped_data[key].append(data_point)\n",
    "    return grouped_data\n",
    "\n",
    "# Function that would sum the values under the field_name\n",
    "def sum_grouped_items(grouped_data, field_name):\n",
    "    summed_data = {}\n",
    "    for key, data_points in grouped_data.items():\n",
    "        total_field_name = 0\n",
    "        for data_point in data_points:\n",
    "            total_field_name += data_point[field_name]\n",
    "        summed_data[key] = total_field_name\n",
    "    return summed_data    \n",
    "\n",
    "# Create a function that would describe the data using numpy functions\n",
    "%matplotlib inline\n",
    "import matplotlib.pyplot as plt\n",
    "import numpy as np\n",
    "import seaborn as sns\n",
    "def describe_data(data, title, xlabel, binNum=None, labelStr=None):\n",
    "    print 'Mean: ', np.mean(data)\n",
    "    print 'Standard Deviation: ', np.std(data)\n",
    "    print 'Minimum: ', np.min(data)\n",
    "    print 'Maximum: ', np.max(data)\n",
    "    \n",
    "    #Check if there is bin argument\n",
    "    if (binNum==None and labelStr==None):\n",
    "        plt.hist(data, alpha=0.5)  \n",
    "    elif (binNum==None and labelStr!=None):\n",
    "        plt.hist(data, alpha=0.5, label=labelStr)\n",
    "    else:\n",
    "        plt.hist(data, bins=binNum, alpha=0.5, label=labelStr)\n",
    "        \n",
    "    #Check if labels are needed\n",
    "    if (labelStr!=None): \n",
    "        plt.legend(loc='upper right')\n",
    "    \n",
    "    plt.title(title)\n",
    "    plt.xlabel(xlabel)\n",
    "    plt.ylabel('No. of Accounts')\n"
   ]
  },
  {
   "cell_type": "markdown",
   "metadata": {},
   "source": [
    "### Getting the total minutes of engagement per account"
   ]
  },
  {
   "cell_type": "code",
   "execution_count": 26,
   "metadata": {
    "collapsed": false
   },
   "outputs": [
    {
     "name": "stdout",
     "output_type": "stream",
     "text": [
      "Mean:  306.708326753\n",
      "Standard Deviation:  412.996933409\n",
      "Minimum:  0.0\n",
      "Maximum:  3564.7332645\n"
     ]
    },
    {
     "data": {
      "image/png": "[encoded data removed]",
      "text/plain": [
       "<matplotlib.figure.Figure at 0x13122b38>"
      ]
     },
     "metadata": {},
     "output_type": "display_data"
    }
   ],
   "source": [
    "##############################################################################################################################\n",
    "# BEFORE CREATING THE FUNCTION ABOVE\n",
    "# Getting the average time of engagement of per account\n",
    "#total_minutes_by_account = {}\n",
    "# Get the average of the times for each data\n",
    "#for key, engagement_record in engagement_by_account.items(): # The engagement_record is a list of dictionary\n",
    "#    total_minutes = 0\n",
    "#    for engagement in engagement_record: # Looking at every dictionary of that key\n",
    "#        total_minutes += engagement['total_minutes_visited']\n",
    "#    total_minutes_by_account[key] = total_minutes  \n",
    "##############################################################################################################################\n",
    "\n",
    "# Using the group_data function to group the engagement record by account key\n",
    "engagement_by_account = group_data(paid_engagement_in_first_week, 'account_key')\n",
    "\n",
    "# Getting the total minutes of engagement per account\n",
    "total_minutes_by_account = sum_grouped_items(engagement_by_account, 'total_minutes_visited')\n",
    "\n",
    "# Displaying the data by using describe_data function\n",
    "describe_data(total_minutes_by_account.values(), 'Distribution of Total Minutes of Spent', 'Total Minutes')\n"
   ]
  },
  {
   "cell_type": "markdown",
   "metadata": {},
   "source": [
    "### Exploring the data about the lessons completed within the first week"
   ]
  },
  {
   "cell_type": "code",
   "execution_count": 27,
   "metadata": {
    "collapsed": false
   },
   "outputs": [],
   "source": [
    "#############################################################################################################################\n",
    "# Before using the functions\n",
    "#total_lessons_by_account = {}\n",
    "#\n",
    "# Get the lessons by account\n",
    "#for key, engagement_record in engagement_by_account.items():\n",
    "#    total_lessons = 0\n",
    "#    for dict_item in engagement_record:\n",
    "#        total_lessons += dict_item['lessons_completed']\n",
    "#    total_lessons_by_account[key] = total_lessons \n",
    "#\n",
    "#total_lessons = total_lessons_by_account.values()\n",
    "#\n",
    "# Using numpy to compute the mean, std dev, min, max\n",
    "#print \"Lessons completed mean: \", np.mean(total_lessons)\n",
    "#print \"Lessons completed deviation: \", np.std(total_lessons)\n",
    "#print \"Lessons completed minimum: \", np.min(total_lessons)\n",
    "#print \"Lessons completed maximum: \", np.max(total_lessons)\n",
    "#############################################################################################################################"
   ]
  },
  {
   "cell_type": "code",
   "execution_count": 28,
   "metadata": {
    "collapsed": false
   },
   "outputs": [
    {
     "name": "stdout",
     "output_type": "stream",
     "text": [
      "Mean:  1.63618090452\n",
      "Standard Deviation:  3.00256129983\n",
      "Minimum:  0\n",
      "Maximum:  36\n"
     ]
    },
    {
     "data": {
      "image/png": "[encoded data removed]",
      "text/plain": [
       "<matplotlib.figure.Figure at 0xbff7a58>"
      ]
     },
     "metadata": {},
     "output_type": "display_data"
    }
   ],
   "source": [
    "# Summing the total lessons by account\n",
    "lessons_completed_by_account = sum_grouped_items(engagement_by_account, 'lessons_completed')\n",
    "\n",
    "# Displaying the data\n",
    "describe_data(lessons_completed_by_account.values(), 'Total Lessons Completed', 'No. of Lessons Completed')"
   ]
  },
  {
   "cell_type": "markdown",
   "metadata": {},
   "source": [
    "### Exploring the data regarding the number of days a student has visited the classrom within the first week"
   ]
  },
  {
   "cell_type": "code",
   "execution_count": 29,
   "metadata": {
    "collapsed": false
   },
   "outputs": [],
   "source": [
    "# ONE WAY OF DOING IT BUT LONG WAY\n",
    "# Using the paid engagement in first week data - paid_engagement_in_first_week\n",
    "# Add another key-value item in each dictionary record\n",
    "#\n",
    "#for engagement in paid_engagement_in_first_week:\n",
    "#    num_courses_visited = engagement['num_courses_visited']\n",
    "#    if (num_courses_visited > 0):\n",
    "#        engagement['has_visited'] = 1 # Student have visited\n",
    "#    else:\n",
    "#        engagement['has_visited'] = 0 # Student have not visited\n",
    "\n",
    "# My way that worked\n",
    "# Adding 'has_visited' key value pair to the engagament_by_account\n",
    "#for engagement_list in engagement_by_account.values():\n",
    "#    for engagement in engagement_list:\n",
    "#        num_courses_visited = engagement['num_courses_visited']\n",
    "#        if (num_courses_visited > 0):\n",
    "#            engagement['has_visited'] = 1 # Student have visited\n",
    "#        else:\n",
    "#            engagement['has_visited'] = 0 # Student have not visited\n",
    "#\n",
    "# Summing the days a student have visited the Udacity Home in their first week\n",
    "#total_days_by_account = sum_grouped_items(engagement_by_account, 'has_visited')\n",
    "#\n",
    "#Printing the details of the total_days\n",
    "#describe_data(total_days_by_account.values())"
   ]
  },
  {
   "cell_type": "code",
   "execution_count": 30,
   "metadata": {
    "collapsed": false
   },
   "outputs": [
    {
     "name": "stdout",
     "output_type": "stream",
     "text": [
      "Mean:  2.86733668342\n",
      "Standard Deviation:  2.25519800292\n",
      "Minimum:  0\n",
      "Maximum:  7\n"
     ]
    },
    {
     "data": {
      "image/png": "[encoded data removed]",
      "text/plain": [
       "<matplotlib.figure.Figure at 0xbff7ac8>"
      ]
     },
     "metadata": {},
     "output_type": "display_data"
    }
   ],
   "source": [
    "# INSTRUCTOR'S WAY\n",
    "# Added the has_visited key-value pair after removing the free trial accounts\n",
    "\n",
    "# Summing the days a student have visited the Udacity Home in their first week\n",
    "days_visited_by_account = sum_grouped_items(engagement_by_account, 'has_visited')\n",
    "\n",
    "#Printing the details of the total_days\n",
    "describe_data(days_visited_by_account.values(), 'Distribution of Days Visited', 'No. of Days', 8)"
   ]
  },
  {
   "cell_type": "markdown",
   "metadata": {},
   "source": [
    "### Splitting the engagement data into two lists\n",
    "\n",
    "Split the engagement data into two lists: passing_engagement, non_passing_engagement. The passing_engagement list contains students who passed their first project, whereas the non_passing_engagement contains the students who haven't passed their first project. Assume that the first project done is entitled: Analyzing New York Subway Data"
   ]
  },
  {
   "cell_type": "code",
   "execution_count": 31,
   "metadata": {
    "collapsed": true
   },
   "outputs": [],
   "source": [
    "# A student would have pass a subject with either of these two keys\n",
    "# Compare the key under the paid_submissions data with key - 'lesson_key' & check the assigned rating if passed\n",
    "subway_project_lesson_keys = ['746169184', '3176718735'] # First project keys\n",
    "\n",
    "def check_project(data, project_key_list):\n",
    "    \"Check each of the data's project is within the key_list and have passed. Returns the passed list\"\n",
    "    passed_list = set()\n",
    "    for data_item in data:\n",
    "        data_project_key = data_item['lesson_key']\n",
    "        data_project_rating = data_item['assigned_rating']\n",
    "        if (data_project_key in project_key_list and \\\n",
    "                (data_project_rating == 'PASSED' or data_project_rating == 'DISTINCTION')):\n",
    "            passed_list.add(data_item['account_key'])\n",
    "    return passed_list"
   ]
  },
  {
   "cell_type": "code",
   "execution_count": 32,
   "metadata": {
    "collapsed": false
   },
   "outputs": [
    {
     "name": "stdout",
     "output_type": "stream",
     "text": [
      "2392\n",
      "4527\n"
     ]
    }
   ],
   "source": [
    "# Set of account keys that passed the first project\n",
    "pass_project = check_project(paid_submissions, subway_project_lesson_keys)\n",
    "\n",
    "# List to categorize student's engagement record\n",
    "passing_engagement = []\n",
    "non_passing_engagement = []\n",
    "\n",
    "# Find the engagement record in the paid_engagement_in_first_week \n",
    "# paid_engagement_in_first_week - List. Contains all the student engagement dictionary(not categorized)\n",
    "for engagement in paid_engagement_in_first_week:\n",
    "    if (engagement['account_key'] in pass_project):\n",
    "        passing_engagement.append(engagement)\n",
    "    else:\n",
    "        non_passing_engagement.append(engagement)\n",
    "\n",
    "\n",
    "print len (non_passing_engagement)\n",
    "print len (passing_engagement)"
   ]
  },
  {
   "cell_type": "code",
   "execution_count": 33,
   "metadata": {
    "collapsed": false
   },
   "outputs": [],
   "source": [
    "# Check the project submissions data of students who passed their project. That is the assigned rating is passed or distinction\n",
    "\n",
    "# Grouping the passing_engagement by account_keys\n",
    "grouped_passing_engagement = group_data(passing_engagement, 'account_key')"
   ]
  },
  {
   "cell_type": "markdown",
   "metadata": {},
   "source": [
    "### Computing some metrics about a student's first week\n",
    "\n",
    "What we know:\n",
    "   - days visited by account\n",
    "   - total minutes by account\n",
    "   - accounts that passed and didn't passed the first project"
   ]
  },
  {
   "cell_type": "code",
   "execution_count": 34,
   "metadata": {
    "collapsed": false
   },
   "outputs": [],
   "source": [
    "# WHAT WE KNOW:\n",
    "# days_visited_by_account\n",
    "# total_minutes_by_account\n",
    "\n",
    "# Group the passing and non-passing engagement\n",
    "grouped_passing_engagement = group_data(passing_engagement, 'account_key')\n",
    "grouped_non_passing_engagement = group_data(non_passing_engagement, 'account_key')"
   ]
  },
  {
   "cell_type": "markdown",
   "metadata": {},
   "source": [
    "#### Calculating the total minutes visited from the two groups"
   ]
  },
  {
   "cell_type": "code",
   "execution_count": 35,
   "metadata": {
    "collapsed": false
   },
   "outputs": [
    {
     "name": "stdout",
     "output_type": "stream",
     "text": [
      "Total minutes visited:\n",
      "\n",
      "Passing students: \n",
      "Mean:  394.586046484\n",
      "Standard Deviation:  448.499519327\n",
      "Minimum:  0.0\n",
      "Maximum:  3564.7332645\n",
      "\n",
      "Non-passing students: \n",
      "Mean:  143.326474267\n",
      "Standard Deviation:  269.538619011\n",
      "Minimum:  0.0\n",
      "Maximum:  1768.52274933\n"
     ]
    },
    {
     "data": {
      "image/png": "[encoded data removed]",
      "text/plain": [
       "<matplotlib.figure.Figure at 0xb111390>"
      ]
     },
     "metadata": {},
     "output_type": "display_data"
    }
   ],
   "source": [
    "# Calculate the total minutes visited\n",
    "passing_total_minutes = sum_grouped_items(grouped_passing_engagement,'total_minutes_visited')\n",
    "non_passing_total_minutes = sum_grouped_items(grouped_non_passing_engagement,'total_minutes_visited')\n",
    "\n",
    "print 'Total minutes visited:\\n'\n",
    "\n",
    "print 'Passing students: '\n",
    "describe_data(passing_total_minutes.values(), 'Total Minutes of Engagement', 'No. of Minutes', labelStr='Passing')\n",
    "\n",
    "print '\\nNon-passing students: '\n",
    "describe_data(non_passing_total_minutes.values(), 'Total Minutes of Engagement', 'No. of Minutes', labelStr='Non-passing')\n"
   ]
  },
  {
   "cell_type": "markdown",
   "metadata": {},
   "source": [
    "** Observation: ** On average,the students who passed the first project spent almost 50% more minutes than those who didn't"
   ]
  },
  {
   "cell_type": "markdown",
   "metadata": {},
   "source": [
    "#### Calculating the total days visited for each group"
   ]
  },
  {
   "cell_type": "code",
   "execution_count": 36,
   "metadata": {
    "collapsed": false
   },
   "outputs": [
    {
     "name": "stdout",
     "output_type": "stream",
     "text": [
      "Total Days Visited: \n",
      "\n",
      "Passing students: \n",
      "Mean:  3.38485316847\n",
      "Standard Deviation:  2.25882147092\n",
      "Minimum:  0\n",
      "Maximum:  7\n",
      "\n",
      "Non-passing students: \n",
      "Mean:  1.90517241379\n",
      "Standard Deviation:  1.90573144136\n",
      "Minimum:  0\n",
      "Maximum:  7\n"
     ]
    },
    {
     "data": {
      "image/png": "[encoded data removed]",
      "text/plain": [
       "<matplotlib.figure.Figure at 0xde05080>"
      ]
     },
     "metadata": {},
     "output_type": "display_data"
    }
   ],
   "source": [
    "# Calculate the total days visited\n",
    "passing_total_days = sum_grouped_items(grouped_passing_engagement,'has_visited')\n",
    "non_passing_total_days = sum_grouped_items(grouped_non_passing_engagement,'has_visited')\n",
    "\n",
    "print 'Total Days Visited: \\n'\n",
    "\n",
    "print 'Passing students: '\n",
    "describe_data(passing_total_days.values(), \"Distribution of Total Days Visited\", 'No. of Days', binNum=8, labelStr='Passing')\n",
    "\n",
    "print '\\nNon-passing students: '\n",
    "describe_data(non_passing_total_days.values(), \"Distribution of Total Days Visited\", 'No. of Days', binNum=8, labelStr='Non-passing')"
   ]
  },
  {
   "cell_type": "markdown",
   "metadata": {},
   "source": [
    "### Calculating the total number of lessons completed per group"
   ]
  },
  {
   "cell_type": "code",
   "execution_count": 37,
   "metadata": {
    "collapsed": false
   },
   "outputs": [
    {
     "name": "stdout",
     "output_type": "stream",
     "text": [
      "Total Lessons Completed: \n",
      "\n",
      "Passing students: \n",
      "Mean:  2.05255023184\n",
      "Standard Deviation:  3.14222705558\n",
      "Minimum:  0\n",
      "Maximum:  36\n",
      "\n",
      "Non-passing students: \n",
      "Mean:  0.862068965517\n",
      "Standard Deviation:  2.54915994183\n",
      "Minimum:  0\n",
      "Maximum:  27\n"
     ]
    },
    {
     "data": {
      "image/png": "[encoded data removed]",
      "text/plain": [
       "<matplotlib.figure.Figure at 0x10e88cc0>"
      ]
     },
     "metadata": {},
     "output_type": "display_data"
    }
   ],
   "source": [
    "passing_total_lessons = sum_grouped_items(grouped_passing_engagement,'lessons_completed')\n",
    "non_passing_total_lessons = sum_grouped_items(grouped_non_passing_engagement,'lessons_completed')\n",
    "\n",
    "print 'Total Lessons Completed: \\n'\n",
    "\n",
    "print 'Passing students: '\n",
    "describe_data(passing_total_lessons.values(), 'Distribution of Lessons Completed', 'No. of Lessons Completed', labelStr='Passing')\n",
    "\n",
    "print '\\nNon-passing students: '\n",
    "describe_data(non_passing_total_lessons.values(), 'Distribution of Lessons Completed', 'No. of Lessons Completed', labelStr='Non-passing')"
   ]
  },
  {
   "cell_type": "markdown",
   "metadata": {},
   "source": [
    "## Data Visualization & Python"
   ]
  },
  {
   "cell_type": "markdown",
   "metadata": {},
   "source": [
    "### Creating Histograms\n",
    "\n",
    "Syntax:\n",
    "    \n",
    "    data = [1, 2, 1, 3, 3, 1, 4, 2]\n",
    "\n",
    "    %matplotlib inline # Causes the plots to be in the notebook\n",
    "    import matplotlib.pyplot as plt\n",
    "    plt.hist(data)"
   ]
  },
  {
   "cell_type": "code",
   "execution_count": 38,
   "metadata": {
    "collapsed": false
   },
   "outputs": [],
   "source": [
    "#%matplotlib inline\n",
    "#import matplotlib.pyplot as plt\n",
    "# Added the plt.hist() in the describe_data function"
   ]
  },
  {
   "cell_type": "markdown",
   "metadata": {},
   "source": [
    "### Histogram of total minutes visited\n",
    "\n",
    "**Observation:** Both of the histogram for the total minutes visited are positively skewed"
   ]
  },
  {
   "cell_type": "code",
   "execution_count": 39,
   "metadata": {
    "collapsed": false
   },
   "outputs": [
    {
     "data": {
      "text/plain": [
       "(array([ 370.,  155.,   83.,   19.,   10.,    4.,    2.,    3.,    0.,    1.]),\n",
       " array([    0.        ,   356.47332645,   712.9466529 ,  1069.41997935,\n",
       "         1425.8933058 ,  1782.36663225,  2138.8399587 ,  2495.31328515,\n",
       "         2851.7866116 ,  3208.25993805,  3564.7332645 ]),\n",
       " <a list of 10 Patch objects>)"
      ]
     },
     "execution_count": 39,
     "metadata": {},
     "output_type": "execute_result"
    },
    {
     "data": {
      "image/png": "[encoded data removed]",
      "text/plain": [
       "<matplotlib.figure.Figure at 0x780a3c8>"
      ]
     },
     "metadata": {},
     "output_type": "display_data"
    }
   ],
   "source": [
    "# For the passing students\n",
    "plt.title('Distribution of Total Minutes Visited by Passing Accounts')\n",
    "plt.xlabel('Total Minutes Visited')\n",
    "plt.ylabel('No.of Accounts')\n",
    "plt.hist(passing_total_minutes.values())"
   ]
  },
  {
   "cell_type": "code",
   "execution_count": 40,
   "metadata": {
    "collapsed": false
   },
   "outputs": [
    {
     "data": {
      "text/plain": [
       "(array([ 272.,   34.,   17.,    9.,    6.,    2.,    1.,    5.,    0.,    2.]),\n",
       " array([    0.        ,   176.85227493,   353.70454987,   530.5568248 ,\n",
       "          707.40909973,   884.26137467,  1061.1136496 ,  1237.96592453,\n",
       "         1414.81819947,  1591.6704744 ,  1768.52274933]),\n",
       " <a list of 10 Patch objects>)"
      ]
     },
     "execution_count": 40,
     "metadata": {},
     "output_type": "execute_result"
    },
    {
     "data": {
      "image/png": "[encoded data removed]",
      "text/plain": [
       "<matplotlib.figure.Figure at 0x72c9438>"
      ]
     },
     "metadata": {},
     "output_type": "display_data"
    }
   ],
   "source": [
    "# For the passing students\n",
    "plt.title('Distribution Total Minutes Visited by Non-Passing Accounts')\n",
    "plt.xlabel('Total Minutes Visited')\n",
    "plt.ylabel('No.of Accounts')\n",
    "plt.hist(non_passing_total_minutes.values())"
   ]
  },
  {
   "cell_type": "markdown",
   "metadata": {},
   "source": [
    "### Histogram of total days visited\n",
    "\n",
    "**Observation:** The histogram for the passing students seemed to be uniformly distributed. Whereas, for the non-passing students, the distribution is positively skewed"
   ]
  },
  {
   "cell_type": "code",
   "execution_count": 41,
   "metadata": {
    "collapsed": false
   },
   "outputs": [
    {
     "data": {
      "text/plain": [
       "(array([ 87.,  82.,  79.,  91.,  77.,  85.,  78.,  68.]),\n",
       " array([ 0.   ,  0.875,  1.75 ,  2.625,  3.5  ,  4.375,  5.25 ,  6.125,  7.   ]),\n",
       " <a list of 8 Patch objects>)"
      ]
     },
     "execution_count": 41,
     "metadata": {},
     "output_type": "execute_result"
    },
    {
     "data": {
      "image/png": "[encoded data removed]",
      "text/plain": [
       "<matplotlib.figure.Figure at 0x9ea8cc0>"
      ]
     },
     "metadata": {},
     "output_type": "display_data"
    }
   ],
   "source": [
    "plt.title('Distribution of Days Visited by Passing Accounts')\n",
    "plt.xlabel('No. of Days')\n",
    "plt.ylabel('No.of Accounts')\n",
    "plt.hist(passing_total_days.values(), bins=8)"
   ]
  },
  {
   "cell_type": "code",
   "execution_count": 42,
   "metadata": {
    "collapsed": false
   },
   "outputs": [
    {
     "data": {
      "text/plain": [
       "(array([ 97.,  90.,  56.,  41.,  15.,  24.,  25.]),\n",
       " array([ 0.,  1.,  2.,  3.,  4.,  5.,  6.,  7.]),\n",
       " <a list of 7 Patch objects>)"
      ]
     },
     "execution_count": 42,
     "metadata": {},
     "output_type": "execute_result"
    },
    {
     "data": {
      "image/png": "[encoded data removed]",
      "text/plain": [
       "<matplotlib.figure.Figure at 0x10f4d160>"
      ]
     },
     "metadata": {},
     "output_type": "display_data"
    }
   ],
   "source": [
    "plt.title('Distribution of Days Visited by Non-Passing Accoutns')\n",
    "plt.xlabel('No. of Days')\n",
    "plt.ylabel('No.of Accounts')\n",
    "plt.hist(non_passing_total_days.values(), bins=7)"
   ]
  },
  {
   "cell_type": "markdown",
   "metadata": {},
   "source": [
    "### Histogram of total lessons completed\n",
    "**Observation: ** Both of the histogram follows positively skewed distribution"
   ]
  },
  {
   "cell_type": "code",
   "execution_count": 43,
   "metadata": {
    "collapsed": false
   },
   "outputs": [
    {
     "data": {
      "text/plain": [
       "(array([ 516.,   97.,   23.,    4.,    3.,    3.,    0.,    0.,    0.,    1.]),\n",
       " array([  0. ,   3.6,   7.2,  10.8,  14.4,  18. ,  21.6,  25.2,  28.8,\n",
       "         32.4,  36. ]),\n",
       " <a list of 10 Patch objects>)"
      ]
     },
     "execution_count": 43,
     "metadata": {},
     "output_type": "execute_result"
    },
    {
     "data": {
      "image/png": "[encoded data removed]",
      "text/plain": [
       "<matplotlib.figure.Figure at 0x10f4df28>"
      ]
     },
     "metadata": {},
     "output_type": "display_data"
    }
   ],
   "source": [
    "plt.title('Distribution of Total Lessons Completed by Passing Accounts')\n",
    "plt.xlabel('No. of Lessons Completed')\n",
    "plt.ylabel('No.of Accounts')\n",
    "plt.hist(passing_total_lessons.values())"
   ]
  },
  {
   "cell_type": "code",
   "execution_count": 44,
   "metadata": {
    "collapsed": false
   },
   "outputs": [
    {
     "data": {
      "text/plain": [
       "(array([ 317.,   17.,    6.,    4.,    1.,    1.,    0.,    1.,    0.,    1.]),\n",
       " array([  0. ,   2.7,   5.4,   8.1,  10.8,  13.5,  16.2,  18.9,  21.6,\n",
       "         24.3,  27. ]),\n",
       " <a list of 10 Patch objects>)"
      ]
     },
     "execution_count": 44,
     "metadata": {},
     "output_type": "execute_result"
    },
    {
     "data": {
      "image/png": "[encoded data removed]",
      "text/plain": [
       "<matplotlib.figure.Figure at 0x127a8e10>"
      ]
     },
     "metadata": {},
     "output_type": "display_data"
    }
   ],
   "source": [
    "plt.title('Distribution of Total Lessons Completed by Non-Passing Accounts')\n",
    "plt.xlabel('No. of Lessons Completed')\n",
    "plt.ylabel('No.of Accounts')\n",
    "plt.hist(non_passing_total_lessons.values())"
   ]
  },
  {
   "cell_type": "markdown",
   "metadata": {},
   "source": [
    "## Data Conclusion using Statistics\n",
    "\n",
    "**Claim:** There is a significant difference in total minutes visited for the students who passed the first project than those who didn't.\n",
    "\n",
    "**Hypotheses:**\n",
    "\n",
    "$H_0: {\\mu_p - \\mu_n \\leq 0}$\n",
    "\n",
    "$H_a: {\\mu_p - \\mu_n > 0}$"
   ]
  },
  {
   "cell_type": "markdown",
   "metadata": {},
   "source": [
    "### Descriptive Statistics & Histograms"
   ]
  },
  {
   "cell_type": "code",
   "execution_count": 45,
   "metadata": {
    "collapsed": false
   },
   "outputs": [
    {
     "name": "stdout",
     "output_type": "stream",
     "text": [
      "Passing students: \n",
      "Mean:  394.586046484\n",
      "Standard Dev.:  448.846520941\n",
      "\n",
      "Non-passing students: \n",
      "Mean:  143.326474267\n",
      "Standard Dev.:  269.926723776\n"
     ]
    },
    {
     "data": {
      "text/plain": [
       "<matplotlib.legend.Legend at 0xba3def0>"
      ]
     },
     "execution_count": 45,
     "metadata": {},
     "output_type": "execute_result"
    },
    {
     "data": {
      "image/png": "[encoded data removed]",
      "text/plain": [
       "<matplotlib.figure.Figure at 0xdec5d30>"
      ]
     },
     "metadata": {},
     "output_type": "display_data"
    }
   ],
   "source": [
    "# Descriptive Statistics & Histogram\n",
    "n_p = len(passing_total_minutes)\n",
    "passing_mean = np.mean(passing_total_minutes.values())\n",
    "passing_std = np.std(passing_total_minutes.values(), ddof=1)\n",
    "n_n = len(passing_total_minutes)\n",
    "non_passing_mean = np.mean(non_passing_total_minutes.values())\n",
    "non_passing_std = np.std(non_passing_total_minutes.values(), ddof=1)\n",
    "\n",
    "print 'Passing students: '\n",
    "print 'Mean: ', passing_mean\n",
    "print 'Standard Dev.: ', passing_std\n",
    "\n",
    "print '\\nNon-passing students: '\n",
    "print 'Mean: ', non_passing_mean\n",
    "print 'Standard Dev.: ', non_passing_std\n",
    "\n",
    "\n",
    "plt.title('Histogram of Total Minutes Visited')\n",
    "plt.xlabel('Total Minutes Visited')\n",
    "plt.ylabel('No. of Accounts')\n",
    "plt.hist(passing_total_minutes.values(), alpha=0.5, label='Passing')\n",
    "plt.hist(non_passing_total_minutes.values(), alpha=0.5, label='Non-passing')\n",
    "\n",
    "plt.legend(loc='upper right')"
   ]
  },
  {
   "cell_type": "markdown",
   "metadata": {},
   "source": [
    "### Exporting data to CSV"
   ]
  },
  {
   "cell_type": "code",
   "execution_count": 50,
   "metadata": {
    "collapsed": false
   },
   "outputs": [],
   "source": [
    "import csv\n",
    "\n",
    "# Export passing_total_minutes\n",
    "with open('data/pass.csv', 'w') as file_pointer:\n",
    "    csv_writer = csv.writer(file_pointer, lineterminator='\\n')\n",
    "    for data in passing_total_minutes.values():\n",
    "        csv_writer.writerow([data])\n",
    "\n",
    "# Export non_passing_total_minutes\n",
    "with open('data/datanonpass.csv', 'w') as file_pointer:\n",
    "    csv_writer = csv.writer(file_pointer, lineterminator='\\n')\n",
    "    for data in non_passing_total_minutes.values():\n",
    "        csv_writer.writerow([data])\n"
   ]
  },
  {
   "cell_type": "markdown",
   "metadata": {},
   "source": [
    "### Computing for Pooled Standard Deviation, Standard Error, and t-Statistics\n",
    "$S_p = \\sqrt{\\frac{S_1^2(n_1-1) + S_2^2(n_2-1)}{n_1+n_2-2}} = 395.6304619$\n",
    "\n",
    "$SEM = S_p\\sqrt{{\\frac{1}{n_1}}+{\\frac{1}{n_2}}} = 26.30022725$\n"
   ]
  },
  {
   "cell_type": "markdown",
   "metadata": {},
   "source": [
    "### Conclusion\n",
    "\n",
    "Using MS Excel's data analysis tool, the following result was obtained.\n",
    "   <img src='figures/result.png' />\n",
    "\n",
    "\n",
    "**Conclusion: ** Since, $t(993) = 9.553513351, p<0.0001$, then we reject the null hypothesis. Specifically, the average total minutes spent by students who passed their first project is significantly higher than those who did not"
   ]
  },
  {
   "cell_type": "markdown",
   "metadata": {},
   "source": [
    "## Improving Data Visualization using Seaborn\n",
    "\n",
    "Seaborn is a Python visualization library based on matplotlib. It provides a high-level interface for drawing attractive statistical graphics."
   ]
  },
  {
   "cell_type": "code",
   "execution_count": null,
   "metadata": {
    "collapsed": false
   },
   "outputs": [],
   "source": []
  },
  {
   "cell_type": "code",
   "execution_count": null,
   "metadata": {
    "collapsed": true
   },
   "outputs": [],
   "source": []
  }
 ],
 "metadata": {
  "anaconda-cloud": {},
  "kernelspec": {
   "display_name": "Python [py27]",
   "language": "python",
   "name": "Python [py27]"
  },
  "language_info": {
   "codemirror_mode": {
    "name": "ipython",
    "version": 2
   },
   "file_extension": ".py",
   "mimetype": "text/x-python",
   "name": "python",
   "nbconvert_exporter": "python",
   "pygments_lexer": "ipython2",
   "version": "2.7.12"
  }
 },
 "nbformat": 4,
 "nbformat_minor": 0
}
