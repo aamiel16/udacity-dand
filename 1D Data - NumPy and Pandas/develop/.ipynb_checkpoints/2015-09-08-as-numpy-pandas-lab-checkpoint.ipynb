{
 "cells": [
  {
   "cell_type": "markdown",
   "metadata": {},
   "source": [
    "# 1D Data - NumPy and Pandas"
   ]
  },
  {
   "cell_type": "markdown",
   "metadata": {},
   "source": [
    "# Pandas Series vs NumPy Arrays"
   ]
  },
  {
   "cell_type": "markdown",
   "metadata": {},
   "source": [
    "## NumPy Arrays\n",
    "\n",
    "NumPy Arrays are somewhat similar to Python Lists. Below are some the similarities and difference of the two:\n",
    "\n",
    "<img src = ../figures/sim_diff_table.png />\n",
    "\n",
    "NumPy Arrays also contain features that can be of great help in analyzing data:\n",
    "   - Vectorize Operations can be used on NumPy Arrays.\n",
    "   - Index arrays could be used to access specific slices or elements of the NumPy Arrays.\n",
    "   - Slices of NumPy arrays points to the original array. Hence any modification to a slice would reflect in the original array.\n",
    "   "
   ]
  },
  {
   "cell_type": "code",
   "execution_count": 1,
   "metadata": {
    "collapsed": false
   },
   "outputs": [],
   "source": [
    "%matplotlib inline\n",
    "\n",
    "# Import NumPy and Pandas\n",
    "import numpy as np\n",
    "import pandas as pd\n",
    "\n",
    "# Import seaborn and pyplot for plotting\n",
    "import seaborn as sns\n",
    "import matplotlib.pyplot as plt"
   ]
  },
  {
   "cell_type": "markdown",
   "metadata": {
    "collapsed": false
   },
   "source": [
    "### Test Codes for NumPy Arrays"
   ]
  },
  {
   "cell_type": "markdown",
   "metadata": {},
   "source": [
    "#### Declaring 1D NumPy Array"
   ]
  },
  {
   "cell_type": "code",
   "execution_count": 2,
   "metadata": {
    "collapsed": false
   },
   "outputs": [],
   "source": [
    "# Declaring a 1D NumPy Array\n",
    "# Creating a list then passing that list as an argument for the np.array()\n",
    "\n",
    "# First 20 countries with employment data\n",
    "countries = np.array([\n",
    "    'Afghanistan', 'Albania', 'Algeria', 'Angola', 'Argentina',\n",
    "    'Armenia', 'Australia', 'Austria', 'Azerbaijan', 'Bahamas',\n",
    "    'Bahrain', 'Bangladesh', 'Barbados', 'Belarus', 'Belgium',\n",
    "    'Belize', 'Benin', 'Bhutan', 'Bolivia',\n",
    "    'Bosnia and Herzegovina'\n",
    "])\n",
    "\n",
    "# Employment data in 2007 for those 20 countries\n",
    "employment = np.array([\n",
    "    55.70000076,  51.40000153,  50.5       ,  75.69999695,\n",
    "    58.40000153,  40.09999847,  61.5       ,  57.09999847,\n",
    "    60.90000153,  66.59999847,  60.40000153,  68.09999847,\n",
    "    66.90000153,  53.40000153,  48.59999847,  56.79999924,\n",
    "    71.59999847,  58.40000153,  70.40000153,  41.20000076\n",
    "])\n",
    "\n",
    "# Female school completion rate in 2007 for those 20 countries\n",
    "female_completion = np.array([\n",
    "    97.35583,  104.62379,  103.02998,   95.14321,  103.69019,\n",
    "    98.49185,  100.88828,   95.43974,   92.11484,   91.54804,\n",
    "    95.98029,   98.22902,   96.12179,  119.28105,   97.84627,\n",
    "    29.07386,   38.41644,   90.70509,   51.7478 ,   95.45072\n",
    "])\n",
    "\n",
    "# Male school completion rate in 2007 for those 20 countries\n",
    "male_completion = np.array([\n",
    "     95.47622,  100.66476,   99.7926 ,   91.48936,  103.22096,\n",
    "     97.80458,  103.81398,   88.11736,   93.55611,   87.76347,\n",
    "    102.45714,   98.73953,   92.22388,  115.3892 ,   98.70502,\n",
    "     37.00692,   45.39401,   91.22084,   62.42028,   90.66958\n",
    "])"
   ]
  },
  {
   "cell_type": "markdown",
   "metadata": {},
   "source": [
    "#### Accessing Elements"
   ]
  },
  {
   "cell_type": "code",
   "execution_count": 3,
   "metadata": {
    "collapsed": false
   },
   "outputs": [],
   "source": [
    "# Accessing elements\n",
    "# Elements can be accessed individually thru indexing\n",
    "# The first element can be accessed by index 0, and the last by index length-1\n",
    "\n",
    "if False:                  # Change to True to run this block\n",
    "    print countries[0]     # Prints the 1st element\n",
    "    print countries[3]     # Prints the 4th element\n",
    "    print countries[19]    # Prints the last element"
   ]
  },
  {
   "cell_type": "code",
   "execution_count": 4,
   "metadata": {
    "collapsed": false
   },
   "outputs": [],
   "source": [
    "# Slicing\n",
    "# Range of elements can be accessed thru slicing\n",
    "# Similar to Python's slicing, inclusive of the first index but exclusive of the last index\n",
    "\n",
    "if False:                  # Change to True to run this block\n",
    "    print countries[0:3]   # Prints the 1st to 3rd element\n",
    "    print countries[:3]    # Prints the 1st to 3rd element\n",
    "    print countries[17:]   # Prints the 18th to last element\n",
    "    print countries[:]     # Prints the whole array"
   ]
  },
  {
   "cell_type": "markdown",
   "metadata": {},
   "source": [
    "#### Using NumPy .dtype() function"
   ]
  },
  {
   "cell_type": "code",
   "execution_count": 5,
   "metadata": {
    "collapsed": false
   },
   "outputs": [],
   "source": [
    "# Element types\n",
    "\n",
    "if False:                                                          # Change to True to run this block\n",
    "    #?countries.dtype                                              # Displays the docstring for dtype \n",
    "\n",
    "    print countries.dtype                                          # Array of Strings with a max string len of 22\n",
    "    print employment.dtype                                         # Array of float64\n",
    "    print np.array([0, 1, 2, 3]).dtype                             # Array of int32\n",
    "    print np.array([1.0, 1.5, 2.0, 2.5]).dtype                     # Array of float64\n",
    "    print np.array([True, False, True]).dtype                      # Array of boolean (bool)\n",
    "    print np.array(['AL', 'AK', 'AZ', 'AR', 'CA']).dtype           # Array of Strings with a max string len of 2"
   ]
  },
  {
   "cell_type": "markdown",
   "metadata": {},
   "source": [
    "#### Looping in NumPy Array"
   ]
  },
  {
   "cell_type": "code",
   "execution_count": 6,
   "metadata": {
    "collapsed": false
   },
   "outputs": [],
   "source": [
    "# Looping\n",
    "# Traversing the array is almost the same as going through a Python list\n",
    "\n",
    "if False:                                                         # Change to True to run the code\n",
    "    for country in countries:\n",
    "        print 'Examining country {}'.format(country)\n",
    "        \n",
    "if False:                                                         # Change to True to run the code\n",
    "    for i in range(len(countries)):\n",
    "        country = countries[i]\n",
    "        country_employment = employment[i]\n",
    "        print 'Country {} has employment {}'.format(country,\n",
    "                country_employment)        "
   ]
  },
  {
   "cell_type": "markdown",
   "metadata": {},
   "source": [
    "#### Some NumPy function"
   ]
  },
  {
   "cell_type": "code",
   "execution_count": 7,
   "metadata": {
    "collapsed": false
   },
   "outputs": [],
   "source": [
    "# Numpy functions\n",
    "# Some of Numpy functions\n",
    "\n",
    "if False:                       # Change to True to run this block\n",
    "    print employment.mean()     # Computes the mean in the employment array\n",
    "    print employment.std()      # Computes the standard dev in the employment array \n",
    "    print employment.max()      # Finds the maximum value in the employment array\n",
    "    print employment.sum()      # Computes the sum of all values in the employment array"
   ]
  },
  {
   "cell_type": "markdown",
   "metadata": {},
   "source": [
    "#### Finding the maximum value for the employment data"
   ]
  },
  {
   "cell_type": "code",
   "execution_count": 8,
   "metadata": {
    "collapsed": false
   },
   "outputs": [],
   "source": [
    "# Finding the maximum value for the employment data and returning with country\n",
    "\n",
    "#?np.argmax()                                         # Displays the docstring of np.argmax() function\n",
    "\n",
    "def max_employment(countries, employments):\n",
    "    '''\n",
    "    Returns a tuple that contains the maximum employment with its corresponding country.\n",
    "    \n",
    "    Function arguments:\n",
    "    countries   -- numpy array of countries\n",
    "    employments -- numpy array of employments of comparable type\n",
    "    '''\n",
    "    \n",
    "    max_index = np.argmax(employment)                 # Returns the index  of the maximum value in the array\n",
    "    return (countries[max_index], employments[max_index])"
   ]
  },
  {
   "cell_type": "code",
   "execution_count": 9,
   "metadata": {
    "collapsed": false
   },
   "outputs": [
    {
     "name": "stdout",
     "output_type": "stream",
     "text": [
      "('Angola', 75.699996949999999)\n"
     ]
    }
   ],
   "source": [
    "# Print the max employment together with its country\n",
    "print max_employment(countries, employment)"
   ]
  },
  {
   "cell_type": "markdown",
   "metadata": {
    "collapsed": false
   },
   "source": [
    "### Vectorized Operations\n",
    "\n",
    "NumPy arrays can do vector operations such as vector addition, subtraction, scalar multiplication, etc."
   ]
  },
  {
   "cell_type": "markdown",
   "metadata": {},
   "source": [
    "#### Arithmetic Operations"
   ]
  },
  {
   "cell_type": "code",
   "execution_count": 10,
   "metadata": {
    "collapsed": false
   },
   "outputs": [],
   "source": [
    "# Arithmetic operations between 2 NumPy arrays\n",
    "if False:                                # Change to True to run this block\n",
    "    a = np.array([1, 2, 3, 4, 5])\n",
    "    b = np.array([1, 2, 1, 2, 2])\n",
    "\n",
    "    print a + b\n",
    "    print a - b\n",
    "    print a * b\n",
    "    print a / b\n",
    "    print a ** b\n",
    "\n",
    "# Arithmetic operations between a NumPy array and a single number\n",
    "if False:                               # Change to True to run this block\n",
    "    a = np.array([1, 2, 3, 4])\n",
    "    b = 2\n",
    "\n",
    "    print a + b\n",
    "    print a - b\n",
    "    print a * b\n",
    "    print a / b\n",
    "    print a ** b"
   ]
  },
  {
   "cell_type": "markdown",
   "metadata": {},
   "source": [
    "#### Logical Operations"
   ]
  },
  {
   "cell_type": "code",
   "execution_count": 11,
   "metadata": {
    "collapsed": false
   },
   "outputs": [],
   "source": [
    "# Logical operations with NumPy Arrays\n",
    "if False:                               # Change to True to run this block\n",
    "    a = np.array([True, True, False, False])\n",
    "    b = np.array([True, False, True, False])\n",
    "    c = np.array([0, 1, 2, True])\n",
    "    \n",
    "    print a & b\n",
    "    print a | b\n",
    "    print ~a\n",
    "    \n",
    "    print a & True\n",
    "    print a & False\n",
    "    \n",
    "    print a | True\n",
    "    print a | False\n",
    "    \n",
    "    print c.dtype\n",
    "    print a | c"
   ]
  },
  {
   "cell_type": "markdown",
   "metadata": {},
   "source": [
    "#### Comparison Operations"
   ]
  },
  {
   "cell_type": "code",
   "execution_count": 12,
   "metadata": {
    "collapsed": false
   },
   "outputs": [],
   "source": [
    "# Comparison operations between 2 NumPy Arrays\n",
    "if False:                              # Change to True to run this block\n",
    "    a = np.array([1, 2, 3, 4, 5])\n",
    "    b = np.array([5, 4, 3, 2, 1])\n",
    "    \n",
    "    print a > b\n",
    "    print a >= b\n",
    "    print a < b\n",
    "    print a <= b\n",
    "    print a == b\n",
    "    print a != b\n",
    "    \n",
    "# Comparison operations between a NumPy array and a single number\n",
    "if False:                             # Change to True to run this block\n",
    "    a = np.array([1, 2, 3, 4])\n",
    "    b = 2\n",
    "    \n",
    "    print a > b\n",
    "    print a >= b\n",
    "    print a < b\n",
    "    print a <= b\n",
    "    print a == b\n",
    "    print a != b"
   ]
  },
  {
   "cell_type": "markdown",
   "metadata": {},
   "source": [
    "#### Computing the overall completion rate for each country"
   ]
  },
  {
   "cell_type": "code",
   "execution_count": 13,
   "metadata": {
    "collapsed": false
   },
   "outputs": [],
   "source": [
    "# Computing the overall completion rate (i.e female and male completion rates combined) for every country\n",
    "\n",
    "def overall_completion_rate(female_completion, male_completion):\n",
    "    '''\n",
    "    Returns a numpy array that contains the overall completion rate for each country.\n",
    "    \n",
    "    Assumes that the half of the population is male and half is female\n",
    "    \n",
    "    Keyword arguments:\n",
    "    female_completion -- the numpy array of female completion rates\n",
    "    male_completion   -- the numpy array of male completion rates\n",
    "    '''\n",
    "    \n",
    "    return (female_completion + male_completion)/2.0        # Divide by a floating number in case rates are integers"
   ]
  },
  {
   "cell_type": "code",
   "execution_count": 14,
   "metadata": {
    "collapsed": false
   },
   "outputs": [
    {
     "name": "stdout",
     "output_type": "stream",
     "text": [
      "[  96.416025  102.644275  101.41129    93.316285  103.455575   98.148215\n",
      "  102.35113    91.77855    92.835475   89.655755   99.218715   98.484275\n",
      "   94.172835  117.335125   98.275645   33.04039    41.905225   90.962965\n",
      "   57.08404    93.06015 ]\n"
     ]
    }
   ],
   "source": [
    "# Compute the overall completion rate\n",
    "completion_rate = overall_completion_rate(female_completion, male_completion)\n",
    "print completion_rate"
   ]
  },
  {
   "cell_type": "markdown",
   "metadata": {},
   "source": [
    "#### Standardizing the data"
   ]
  },
  {
   "cell_type": "code",
   "execution_count": 15,
   "metadata": {
    "collapsed": true
   },
   "outputs": [],
   "source": [
    "# Standardizing or normalizing the employment rates for the given 20 countries\n",
    "def standardize_data(values):\n",
    "    '''\n",
    "    Returns an array of standardized values.\n",
    "    \n",
    "    Function Argument:\n",
    "    values -- numpy array that contains the values\n",
    "    '''\n",
    "    values_mean = np.mean(values)                               # Computes the mean thru numpy\n",
    "    values_std = np.std(values)                                 # Computes the standard deviation thru numpy\n",
    "    standardize_array = (values - values_mean)/values_std       # Computes the standardized score (z-score) for each values\n",
    "    \n",
    "    return standardize_array  "
   ]
  },
  {
   "cell_type": "code",
   "execution_count": 16,
   "metadata": {
    "collapsed": false
   },
   "outputs": [
    {
     "name": "stdout",
     "output_type": "stream",
     "text": [
      "[-0.31965231 -0.780123   -0.87650077  1.82207181 -0.03051941 -1.99019768\n",
      "  0.30144772 -0.16973184  0.23719615  0.84758731  0.18365304  1.00821665\n",
      "  0.87971351 -0.56595055 -1.07996476 -0.20185762  1.38301845 -0.03051941\n",
      "  1.2545153  -1.87240259]\n"
     ]
    }
   ],
   "source": [
    "# Standardize the employment rates for the countries\n",
    "employment_standardize = standardize_data(employment)\n",
    "print employment_standardize"
   ]
  },
  {
   "cell_type": "markdown",
   "metadata": {},
   "source": [
    "### Index Arrays"
   ]
  },
  {
   "cell_type": "code",
   "execution_count": 17,
   "metadata": {
    "collapsed": false
   },
   "outputs": [],
   "source": [
    "# Using index arrays\n",
    "if False:                                               # Change to True to display this block\n",
    "    a = np.array([1, 2, 3, 4])\n",
    "    b = np.array([True, True, False, False])\n",
    "    \n",
    "    print a[b]                                          # Only prints the values of a whose index is True in b\n",
    "    print a[np.array([True, False, True, False])]       # Same as above, just skips the assignment of array to variable b"
   ]
  },
  {
   "cell_type": "markdown",
   "metadata": {},
   "source": [
    "#### Vectorized Operations"
   ]
  },
  {
   "cell_type": "code",
   "execution_count": 18,
   "metadata": {
    "collapsed": false
   },
   "outputs": [],
   "source": [
    "# Creating the index array using vectorized operations\n",
    "if False:                                              # Change to True to display this block\n",
    "    a = np.array([1, 2, 3, 2, 1])                      \n",
    "    b = (a >= 2)                                       # Vector operations with comparison operator\n",
    "    \n",
    "    print b\n",
    "    print a[b]\n",
    "    print a[a >= 2]                                    # Only prints values of a that is greater than or equal to 2"
   ]
  },
  {
   "cell_type": "code",
   "execution_count": 19,
   "metadata": {
    "collapsed": false
   },
   "outputs": [],
   "source": [
    "# Creating the index array using vectorized operations on another array\n",
    "if False:                                              # Change to True to display this block\n",
    "    a = np.array([1, 2, 3, 4, 5])\n",
    "    b = np.array([1, 2, 3, 2, 1])\n",
    "    \n",
    "    print b == 2\n",
    "    print a[b == 2]"
   ]
  },
  {
   "cell_type": "code",
   "execution_count": 20,
   "metadata": {
    "collapsed": false
   },
   "outputs": [
    {
     "name": "stdout",
     "output_type": "stream",
     "text": [
      "['Albania' 'Algeria' 'Argentina' 'Australia' 'Bahrain' 'Belarus']\n"
     ]
    }
   ],
   "source": [
    "# Display the countries with male or female completion rate greater than or equal 100\n",
    "print countries[((male_completion>=100) | (female_completion>=100))]"
   ]
  },
  {
   "cell_type": "markdown",
   "metadata": {},
   "source": [
    "### Modifying Slices"
   ]
  },
  {
   "cell_type": "code",
   "execution_count": 21,
   "metadata": {
    "collapsed": false
   },
   "outputs": [],
   "source": [
    "# Modifying the original array through slices\n",
    "if False:                                               # Change to True to display this block\n",
    "    a = np.array([1, 2, 3, 4, 5])\n",
    "    b = a[2:]                                           # Assign a slice to a variable b\n",
    "    b[:] = 0                                            # Modify b\n",
    "    \n",
    "    print a                                             # Modifications reflects in a\n",
    "    \n",
    "# Modifying an array with Not-in-place modification   \n",
    "if False:                                               # Change to True to display this block\n",
    "    a = np.array([1, 2, 3, 4, 5])\n",
    "    b = a[2:]                                          \n",
    "    b = b * 2                                           # Assigns b to new array thus not pointing to a anymore\n",
    "   \n",
    "    print b\n",
    "    print a\n",
    "    \n",
    "# Modifying an array with In-place modification\n",
    "if False:                                               # Change to True to display this block   \n",
    "    a = np.array([1, 2, 3, 4, 5])\n",
    "    b = a[2:]                                          \n",
    "    b *= 2                                              # Carries the operation in-place thus reflecting it in a\n",
    "    \n",
    "    print a"
   ]
  },
  {
   "cell_type": "markdown",
   "metadata": {},
   "source": [
    "## Pandas Series\n",
    "\n",
    "Similar to NumPy Array, but with extra functionality. \n",
    "\n",
    "Some similarities of Pandas Series with NumPy Arrays:\n",
    "   - Accessing elements through indexing or slicing\n",
    "   - Looping or traversing through the series\n",
    "   - Convenient functions such as s.mean(), s.max(), etc.\n",
    "   - Vectorized Operations\n",
    "   - Like NumPy Arrays, is implemented in C thus much faster.\n",
    "   \n",
    "Some advantage of the Pandas Series are:\n",
    "   - Extra functionality or functions (**i.e.** s.describe() - displays some statistics about the series)\n",
    "   - Enables the use of series indexes\n",
    "   - Values are matched up through index rather than position\n"
   ]
  },
  {
   "cell_type": "markdown",
   "metadata": {},
   "source": [
    "### Test Codes for Pandas Series"
   ]
  },
  {
   "cell_type": "markdown",
   "metadata": {},
   "source": [
    "#### Declaring Pandas Series"
   ]
  },
  {
   "cell_type": "code",
   "execution_count": 22,
   "metadata": {
    "collapsed": true
   },
   "outputs": [],
   "source": [
    "# Python Lists\n",
    "# 20 countries\n",
    "countries = ['Albania', 'Algeria', 'Andorra', 'Angola', 'Antigua and Barbuda',\n",
    "             'Argentina', 'Armenia', 'Australia', 'Austria', 'Azerbaijan',\n",
    "             'Bahamas', 'Bahrain', 'Bangladesh', 'Barbados', 'Belarus',\n",
    "             'Belgium', 'Belize', 'Benin', 'Bhutan', 'Bolivia']\n",
    "\n",
    "# Life expectancy in 2007 for those 20 countries\n",
    "life_expectancy_values = [74.7,  75. ,  83.4,  57.6,  74.6,  75.4,  72.3,  81.5,  80.2,\n",
    "                          70.3,  72.1,  76.4,  68.1,  75.2,  69.8,  79.4,  70.8,  62.7,\n",
    "                          67.3,  70.6]\n",
    "\n",
    "# GDP in 2007 for those 20 countries\n",
    "gdp_values = [ 1681.61390973,   2155.48523109,  21495.80508273,    562.98768478,\n",
    "              13495.1274663 ,   9388.68852258,   1424.19056199,  24765.54890176,\n",
    "              27036.48733192,   1945.63754911,  21721.61840978,  13373.21993972,\n",
    "                483.97086804,   9783.98417323,   2253.46411147,  25034.66692293,\n",
    "               3680.91642923,    366.04496652,   1175.92638695,   1132.21387981]"
   ]
  },
  {
   "cell_type": "code",
   "execution_count": 23,
   "metadata": {
    "collapsed": false
   },
   "outputs": [],
   "source": [
    "# Declaring a 1D Pandas Series\n",
    "life_expectancy = pd.Series(life_expectancy_values)\n",
    "gdp = pd.Series(gdp_values)"
   ]
  },
  {
   "cell_type": "markdown",
   "metadata": {},
   "source": [
    "#### Accessing elements"
   ]
  },
  {
   "cell_type": "code",
   "execution_count": 24,
   "metadata": {
    "collapsed": false
   },
   "outputs": [],
   "source": [
    "# Accessing elements thru indexing and slicing\n",
    "if False:                                     # Change to True to run this block\n",
    "    print life_expectancy[0]                  # Prints the 1st element\n",
    "    print gdp[3:6]                            # Prints the 4th to 6th element"
   ]
  },
  {
   "cell_type": "markdown",
   "metadata": {},
   "source": [
    "#### Looping in Pandas Series"
   ]
  },
  {
   "cell_type": "code",
   "execution_count": 25,
   "metadata": {
    "collapsed": true
   },
   "outputs": [],
   "source": [
    "# Looping\n",
    "if False:                                     # Change to True to run this block\n",
    "    for country_life_expectancy in life_expectancy:\n",
    "        print 'Examining life expectancy {}'.format(country_life_expectancy)"
   ]
  },
  {
   "cell_type": "markdown",
   "metadata": {},
   "source": [
    "#### Some Pandas function"
   ]
  },
  {
   "cell_type": "code",
   "execution_count": 26,
   "metadata": {
    "collapsed": true
   },
   "outputs": [],
   "source": [
    "# Pandas functions\n",
    "if False:                                     # Change to True to run this block\n",
    "    print life_expectancy.mean()              # Prints the mean of the data\n",
    "    print life_expectancy.std()               # Prints the standard deviation of the data\n",
    "    print gdp.max()                           # Prints the maximum value in the data\n",
    "    print gdp.sum()                           # Prints the sum of value of the data"
   ]
  },
  {
   "cell_type": "markdown",
   "metadata": {},
   "source": [
    "#### Vectorized Operations and Index Arrays"
   ]
  },
  {
   "cell_type": "code",
   "execution_count": 27,
   "metadata": {
    "collapsed": false
   },
   "outputs": [],
   "source": [
    "# Vectorized operations and index arrays\n",
    "if False:                                     # Change to True to run this block\n",
    "    a = pd.Series([1, 2, 3, 4])\n",
    "    b = pd.Series([1, 2, 1, 2])\n",
    "  \n",
    "    print a + b                               # Series addition\n",
    "    print a * b                               # Series multiplication to another series\n",
    "    print a * 2                               # Series multiplication to single number\n",
    "    print a >= 3                              # Using comparision operator on series\n",
    "    print a[a >= 3]                           # Using index arrays to print values greater or equal to 3"
   ]
  },
  {
   "cell_type": "markdown",
   "metadata": {},
   "source": [
    "#### Determining correlation through a simple function"
   ]
  },
  {
   "cell_type": "code",
   "execution_count": 28,
   "metadata": {
    "collapsed": false
   },
   "outputs": [],
   "source": [
    "# Function that determines if two variables are correlated just by position of values from the mean\n",
    "# Positive Correlation if the first element of the return value tuple is significantly larger than the second\n",
    "# Negative Correlation if the second element of the return value tuple is significantly larger than the first\n",
    "# No Correlation if the return values of the tuple are roughly equal\n",
    "def variable_correlation(variable1, variable2):\n",
    "    '''\n",
    "    Calculates the number of data points for which\n",
    "    the directions of variable1 and variable2 relative to the mean are the\n",
    "    same, and the number of data points for which they are different.\n",
    "    \n",
    "    Returns a tuple (num_same_direction, num_different_direction).\n",
    "    '''\n",
    "    \n",
    "    # Standardize each data \n",
    "    standardize_variable1 = standardize_data(variable1)        # Standardize values of variable 1\n",
    "    standardize_variable2 = standardize_data(variable2)        # Standardize values of variable 2\n",
    "    \n",
    "    # Now since the data has been standardized, positive values are above the mean while negative values are below\n",
    "    # Multiply the series to 1 to convert it to int values 0-False, 1-True\n",
    "    var1_bool = (standardize_variable1>=0)*1                   # Boolean series that is True if z-score is positive for var1\n",
    "    var2_bool = (standardize_variable2>=0)*1                   # Boolean series that is True if z-score is positive for var2\n",
    "    sum_bool = (var1_bool + var2_bool)\n",
    "    \n",
    "    # Values both below the mean would sum to 0, while values both above the mean would sum to 2\n",
    "    num_same_direction = len(sum_bool[sum_bool==0]) + len(sum_bool[sum_bool==2])\n",
    "                             \n",
    "    # Values with one variable above the mean and the other variable below the mean would sum to 1                      \n",
    "    num_different_direction = len(sum_bool[sum_bool==1])\n",
    "    \n",
    "    return (num_same_direction, num_different_direction)"
   ]
  },
  {
   "cell_type": "code",
   "execution_count": 29,
   "metadata": {
    "collapsed": false
   },
   "outputs": [
    {
     "data": {
      "text/plain": [
       "(17, 3)"
      ]
     },
     "execution_count": 29,
     "metadata": {},
     "output_type": "execute_result"
    }
   ],
   "source": [
    "# Determining the correlation between a country's gdp and life expectancy\n",
    "variable_correlation(gdp, life_expectancy)"
   ]
  },
  {
   "cell_type": "markdown",
   "metadata": {},
   "source": [
    "### Series Index"
   ]
  },
  {
   "cell_type": "code",
   "execution_count": 30,
   "metadata": {
    "collapsed": false
   },
   "outputs": [
    {
     "name": "stdout",
     "output_type": "stream",
     "text": [
      "Albania                55.700001\n",
      "Algeria                51.400002\n",
      "Andorra                50.500000\n",
      "Angola                 75.699997\n",
      "Antigua and Barbuda    58.400002\n",
      "Argentina              40.099998\n",
      "Armenia                61.500000\n",
      "Australia              57.099998\n",
      "Austria                60.900002\n",
      "Azerbaijan             66.599998\n",
      "Bahamas                60.400002\n",
      "Bahrain                68.099998\n",
      "Bangladesh             66.900002\n",
      "Barbados               53.400002\n",
      "Belarus                48.599998\n",
      "Belgium                56.799999\n",
      "Belize                 71.599998\n",
      "Benin                  58.400002\n",
      "Bhutan                 70.400002\n",
      "Bolivia                41.200001\n",
      "dtype: float64\n"
     ]
    }
   ],
   "source": [
    "# Declaring a Pandas Series with a series index\n",
    "\n",
    "# Re-assigning the life_expectancy series to a new series with coutries as index\n",
    "employment = pd.Series(employment, index=countries) \n",
    "print employment"
   ]
  },
  {
   "cell_type": "markdown",
   "metadata": {},
   "source": [
    "#### Accessing with Series Index"
   ]
  },
  {
   "cell_type": "code",
   "execution_count": 31,
   "metadata": {
    "collapsed": false,
    "scrolled": true
   },
   "outputs": [
    {
     "name": "stdout",
     "output_type": "stream",
     "text": [
      "55.70000076\n",
      "70.40000153\n",
      "55.70000076\n"
     ]
    }
   ],
   "source": [
    "# Before we could access a series thru indexing\n",
    "print employment[0]                          # Right terminology is: 'Access the life expectancy at position 0'\n",
    "\n",
    "# New approach to access series\n",
    "# Using Pandas .loc() function\n",
    "print employment.loc['Bhutan']               # Access the life expectancy for index 'Bhutan'\n",
    "\n",
    "# Using Pandas .iloc() function\n",
    "print employment.iloc[0]                     # Access the life expectancy by the given position"
   ]
  },
  {
   "cell_type": "markdown",
   "metadata": {},
   "source": [
    "#### Modifying max_employment() function for Pandas Series"
   ]
  },
  {
   "cell_type": "code",
   "execution_count": 32,
   "metadata": {
    "collapsed": true
   },
   "outputs": [],
   "source": [
    "# Finding the maximum value in the employment data\n",
    "#?employment.argmax                          # Displays the docstring for pd.argmax()\n",
    "def max_employment(employment):\n",
    "    '''\n",
    "    Returns the maxium employment with the corresponding country in tuple (max_country, employment.loc[max_country])\n",
    "    \n",
    "    Return argument:\n",
    "    max_country -- country with the maximum employment rate.\n",
    "    \n",
    "    Function argument:\n",
    "    employment -- panda series with countries as index\n",
    "    '''\n",
    "    \n",
    "    max_country = employment.argmax()\n",
    "    \n",
    "    return (max_country, employment.loc[max_country])"
   ]
  },
  {
   "cell_type": "code",
   "execution_count": 33,
   "metadata": {
    "collapsed": false
   },
   "outputs": [
    {
     "name": "stdout",
     "output_type": "stream",
     "text": [
      "('Angola', 75.699996949999999)\n"
     ]
    }
   ],
   "source": [
    "print max_employment(employment)"
   ]
  },
  {
   "cell_type": "markdown",
   "metadata": {},
   "source": [
    "#### Operations between Two Series"
   ]
  },
  {
   "cell_type": "code",
   "execution_count": 34,
   "metadata": {
    "collapsed": false
   },
   "outputs": [
    {
     "name": "stdout",
     "output_type": "stream",
     "text": [
      "a     NaN\n",
      "b     NaN\n",
      "c    13.0\n",
      "d    24.0\n",
      "e     NaN\n",
      "f     NaN\n",
      "dtype: float64\n"
     ]
    }
   ],
   "source": [
    "# Addition when indexes are the same\n",
    "# Change the condition to True to run specific code blocks\n",
    "\n",
    "if False:                                                          \n",
    "    s1 = pd.Series([1, 2, 3, 4], index=['a', 'b', 'c', 'd'])\n",
    "    s2 = pd.Series([10, 20, 30, 40], index=['a', 'b', 'c', 'd'])\n",
    "    print s1 + s2\n",
    "\n",
    "# Indexes have same elements in a different order\n",
    "if False:\n",
    "    s1 = pd.Series([1, 2, 3, 4], index=['a', 'b', 'c', 'd'])\n",
    "    s2 = pd.Series([10, 20, 30, 40], index=['b', 'd', 'a', 'c'])\n",
    "    print s1 + s2\n",
    "\n",
    "# Indexes overlap, but do not have exactly the same elements\n",
    "if True:\n",
    "    s1 = pd.Series([1, 2, 3, 4], index=['a', 'b', 'c', 'd'])\n",
    "    s2 = pd.Series([10, 20, 30, 40], index=['c', 'd', 'e', 'f'])\n",
    "    print s1 + s2\n",
    "\n",
    "# Indexes do not overlap\n",
    "if False:\n",
    "    s1 = pd.Series([1, 2, 3, 4], index=['a', 'b', 'c', 'd'])\n",
    "    s2 = pd.Series([10, 20, 30, 40], index=['e', 'f', 'g', 'h'])\n",
    "    print s1 + s2\n",
    "    \n",
    "# Hence operations on Pandas Series are by index not by position\n",
    "# If an index of a series is not in the index of the other series, a Nan value would be returned"
   ]
  },
  {
   "cell_type": "code",
   "execution_count": 35,
   "metadata": {
    "collapsed": false
   },
   "outputs": [
    {
     "name": "stdout",
     "output_type": "stream",
     "text": [
      "a     1.0\n",
      "b     2.0\n",
      "c     3.0\n",
      "d     4.0\n",
      "e    10.0\n",
      "f    20.0\n",
      "g    30.0\n",
      "h    40.0\n",
      "dtype: float64\n"
     ]
    }
   ],
   "source": [
    "# To address the adding of Pandas Series\n",
    "\n",
    "# Indexes overlap, but do not have exactly the same elements\n",
    "if False:\n",
    "    s1 = pd.Series([1, 2, 3, 4], index=['a', 'b', 'c', 'd'])\n",
    "    s2 = pd.Series([10, 20, 30, 40], index=['c', 'd', 'e', 'f'])\n",
    "    s3 = s1 + s2                                                       # Same as before this would have values of Nan\n",
    "    print s3.dropna()                                                  # This function drops the indeces with values of Nan\n",
    "    \n",
    "# However supposed we would want to add the two series and treating for missing values from either series as 0\n",
    "# We would want an output similar to: # print pd.Series([1, 2, 13, 24, 30, 40], index=['a', 'b', 'c', 'd', 'e', 'f'])\n",
    "if True:\n",
    "    s1 = pd.Series([1, 2, 3, 4], index=['a', 'b', 'c', 'd'])\n",
    "    s2 = pd.Series([10, 20, 30, 40], index=['e', 'f', 'g', 'h'])\n",
    "    s3 = s1.add(s2, fill_value=0)                                      # This fills the missing value of 0\n",
    "    print s3"
   ]
  },
  {
   "cell_type": "markdown",
   "metadata": {
    "collapsed": true
   },
   "source": [
    "#### Pandas Series apply() function"
   ]
  },
  {
   "cell_type": "code",
   "execution_count": 36,
   "metadata": {
    "collapsed": true
   },
   "outputs": [],
   "source": [
    "# Suppose you want to carry out series of operations that could not be easily achieved by vectorized operations\n",
    "# Hence, would want to loop through the series and carry out the operation for every element\n",
    "\n",
    "# Suppose we want to reverse the names into a format 'Lastname, Firstname'\n",
    "names = pd.Series([\n",
    "    'Andre Agassi',\n",
    "    'Barry Bonds',\n",
    "    'Christopher Columbus',\n",
    "    'Daniel Defoe',\n",
    "    'Emilio Estevez',\n",
    "    'Fred Flintstone',\n",
    "    'Greta Garbo',\n",
    "    'Humbert Humbert',\n",
    "    'Ivan Ilych',\n",
    "    'James Joyce',\n",
    "    'Keira Knightley',\n",
    "    'Lois Lane',\n",
    "    'Mike Myers',\n",
    "    'Nick Nolte',\n",
    "    'Ozzy Osbourne',\n",
    "    'Pablo Picasso',\n",
    "    'Quirinus Quirrell',\n",
    "    'Rachael Ray',\n",
    "    'Susan Sarandon',\n",
    "    'Tina Turner',\n",
    "    'Ugueth Urbina',\n",
    "    'Vince Vaughn',\n",
    "    'Woodrow Wilson',\n",
    "    'Yoji Yamada',\n",
    "    'Zinedine Zidane'\n",
    "])"
   ]
  },
  {
   "cell_type": "code",
   "execution_count": 37,
   "metadata": {
    "collapsed": true
   },
   "outputs": [],
   "source": [
    "def reverse_string(string):\n",
    "    '''\n",
    "    Returns a reverse of the given string in a format: \"Laststring, Firststring\".\n",
    "    \n",
    "    Function argument:\n",
    "    string -- a two word string seperated by a space\n",
    "    '''\n",
    "    \n",
    "    string_parts = string.split(' ')\n",
    "    return string_parts[1] + ', ' + string_parts[0]\n",
    "\n",
    "def reverse_name(series):\n",
    "    '''\n",
    "    Returns a series where the values a reversed\n",
    "    \n",
    "    Function argument:\n",
    "    series -- a pandas series which contains two-word strings\n",
    "    '''\n",
    "    \n",
    "    return series.apply(reverse_string)        # Using the apply() function to carry out the reverse_string() function"
   ]
  },
  {
   "cell_type": "code",
   "execution_count": 38,
   "metadata": {
    "collapsed": false
   },
   "outputs": [
    {
     "data": {
      "text/plain": [
       "0             Agassi, Andre\n",
       "1              Bonds, Barry\n",
       "2     Columbus, Christopher\n",
       "3             Defoe, Daniel\n",
       "4           Estevez, Emilio\n",
       "5          Flintstone, Fred\n",
       "6              Garbo, Greta\n",
       "7          Humbert, Humbert\n",
       "8               Ilych, Ivan\n",
       "9              Joyce, James\n",
       "10         Knightley, Keira\n",
       "11               Lane, Lois\n",
       "12              Myers, Mike\n",
       "13              Nolte, Nick\n",
       "14           Osbourne, Ozzy\n",
       "15           Picasso, Pablo\n",
       "16       Quirrell, Quirinus\n",
       "17             Ray, Rachael\n",
       "18          Sarandon, Susan\n",
       "19             Turner, Tina\n",
       "20           Urbina, Ugueth\n",
       "21            Vaughn, Vince\n",
       "22          Wilson, Woodrow\n",
       "23             Yamada, Yoji\n",
       "24         Zidane, Zinedine\n",
       "dtype: object"
      ]
     },
     "execution_count": 38,
     "metadata": {},
     "output_type": "execute_result"
    }
   ],
   "source": [
    "# Reversing the names in the names series\n",
    "reverse_name(names)"
   ]
  },
  {
   "cell_type": "markdown",
   "metadata": {},
   "source": [
    "#### Plotting in Pandas"
   ]
  },
  {
   "cell_type": "code",
   "execution_count": 39,
   "metadata": {
    "collapsed": false
   },
   "outputs": [
    {
     "data": {
      "text/plain": [
       "(array([ 2.,  0.,  2.,  2.,  3.,  4.,  1.,  3.,  2.,  1.]),\n",
       " array([ 40.09999847,  43.65999832,  47.21999817,  50.77999801,\n",
       "         54.33999786,  57.89999771,  61.45999756,  65.01999741,\n",
       "         68.57999725,  72.1399971 ,  75.69999695]),\n",
       " <a list of 10 Patch objects>)"
      ]
     },
     "execution_count": 39,
     "metadata": {},
     "output_type": "execute_result"
    },
    {
     "data": {
      "image/png": "[encoded data removed]",
      "text/plain": [
       "<matplotlib.figure.Figure at 0x59a0c18>"
      ]
     },
     "metadata": {},
     "output_type": "display_data"
    }
   ],
   "source": [
    "# Showing the distribution of employment data of 20 countries\n",
    "# Using pyplot\n",
    "plt.xlabel('Employment')\n",
    "plt.ylabel('No. of Countries')\n",
    "plt.hist(employment)"
   ]
  },
  {
   "cell_type": "code",
   "execution_count": 40,
   "metadata": {
    "collapsed": false
   },
   "outputs": [
    {
     "data": {
      "text/plain": [
       "<matplotlib.axes._subplots.AxesSubplot at 0xb51f6d8>"
      ]
     },
     "execution_count": 40,
     "metadata": {},
     "output_type": "execute_result"
    },
    {
     "data": {
      "image/png": "[encoded data removed]",
      "text/plain": [
       "<matplotlib.figure.Figure at 0xb300710>"
      ]
     },
     "metadata": {},
     "output_type": "display_data"
    }
   ],
   "source": [
    "# Using pandas hist() function\n",
    "plt.xlabel('Employment')\n",
    "plt.ylabel('No. of Countries')\n",
    "employment.hist()"
   ]
  }
 ],
 "metadata": {
  "anaconda-cloud": {},
  "kernelspec": {
   "display_name": "Python [py27]",
   "language": "python",
   "name": "Python [py27]"
  },
  "language_info": {
   "codemirror_mode": {
    "name": "ipython",
    "version": 2
   },
   "file_extension": ".py",
   "mimetype": "text/x-python",
   "name": "python",
   "nbconvert_exporter": "python",
   "pygments_lexer": "ipython2",
   "version": "2.7.12"
  }
 },
 "nbformat": 4,
 "nbformat_minor": 0
}
