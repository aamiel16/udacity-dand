{
 "cells": [
  {
   "cell_type": "markdown",
   "metadata": {},
   "source": [
    "# Jupyter Notebook & SQL *(sqlite3 library)*"
   ]
  },
  {
   "cell_type": "markdown",
   "metadata": {},
   "source": [
    "### Importing the library"
   ]
  },
  {
   "cell_type": "code",
   "execution_count": 1,
   "metadata": {
    "collapsed": true
   },
   "outputs": [],
   "source": [
    "# import the sqlite3 library\n",
    "import sqlite3"
   ]
  },
  {
   "cell_type": "markdown",
   "metadata": {},
   "source": [
    "### Connecting to the Database"
   ]
  },
  {
   "cell_type": "code",
   "execution_count": 2,
   "metadata": {
    "collapsed": false
   },
   "outputs": [],
   "source": [
    "# establishing connection\n",
    "conn = sqlite3.connect('../develop/db/Chinook_Sqlite.sqlite')\n",
    "\n",
    "# creating a cursor object\n",
    "c = conn.cursor()"
   ]
  },
  {
   "cell_type": "code",
   "execution_count": 3,
   "metadata": {
    "collapsed": true
   },
   "outputs": [],
   "source": [
    "# Function to execute a query\n",
    "def execute_query(query):\n",
    "    c.execute(query)\n",
    "    # print rows\n",
    "    for row in c.fetchall():\n",
    "        print row\n",
    "        \n",
    "# Function to close the connection and cursors\n",
    "def close_conn():\n",
    "    c.close()\n",
    "    conn.close()"
   ]
  },
  {
   "cell_type": "markdown",
   "metadata": {},
   "source": [
    "### Exploring the Database"
   ]
  },
  {
   "cell_type": "markdown",
   "metadata": {},
   "source": [
    "#### Top 10 artists with the most songs in the  database"
   ]
  },
  {
   "cell_type": "code",
   "execution_count": 4,
   "metadata": {
    "collapsed": false
   },
   "outputs": [
    {
     "name": "stdout",
     "output_type": "stream",
     "text": [
      "(u'Iron Maiden', 213)\n",
      "(u'U2', 135)\n",
      "(u'Led Zeppelin', 114)\n",
      "(u'Metallica', 112)\n",
      "(u'Deep Purple', 92)\n",
      "(u'Lost', 92)\n",
      "(u'Pearl Jam', 67)\n",
      "(u'Lenny Kravitz', 57)\n",
      "(u'Various Artists', 56)\n",
      "(u'The Office', 53)\n"
     ]
    }
   ],
   "source": [
    "query = '''\n",
    "SELECT Artist.Name, Count(Artist.Name)\n",
    "FROM Track\n",
    "JOIN Album ON Album.AlbumId = Track.AlbumId\n",
    "JOIN Artist ON Artist.ArtistId = Album.ArtistId\n",
    "GROUP BY Artist.Name\n",
    "ORDER BY Count(*) DESC\n",
    "LIMIT 10\n",
    "'''\n",
    "\n",
    "execute_query(query)"
   ]
  },
  {
   "cell_type": "markdown",
   "metadata": {},
   "source": [
    "#### Top 10 genres with missing composers"
   ]
  },
  {
   "cell_type": "code",
   "execution_count": 5,
   "metadata": {
    "collapsed": false,
    "scrolled": false
   },
   "outputs": [
    {
     "name": "stdout",
     "output_type": "stream",
     "text": [
      "(u'Latin', 309)\n",
      "(u'Rock', 168)\n",
      "(u'TV Shows', 93)\n",
      "(u'Drama', 64)\n",
      "(u'Jazz', 51)\n",
      "(u'Metal', 44)\n",
      "(u'Alternative & Punk', 31)\n",
      "(u'Reggae', 27)\n",
      "(u'Alternative', 26)\n",
      "(u'Pop', 26)\n"
     ]
    }
   ],
   "source": [
    "query = '''\n",
    "SELECT Genre.Name, COUNT(*)\n",
    "FROM Track \n",
    "JOIN Genre ON Genre.GenreId = Track.GenreId\n",
    "WHERE Track.Composer IS NULL\n",
    "GROUP BY Genre.Name\n",
    "ORDER BY COUNT(*) DESC\n",
    "LIMIT 10\n",
    "'''\n",
    "\n",
    "execute_query(query)"
   ]
  },
  {
   "cell_type": "markdown",
   "metadata": {},
   "source": [
    "#### Closing the Connection and Cursor"
   ]
  },
  {
   "cell_type": "code",
   "execution_count": 6,
   "metadata": {
    "collapsed": true
   },
   "outputs": [],
   "source": [
    "close_conn()"
   ]
  },
  {
   "cell_type": "markdown",
   "metadata": {
    "collapsed": false
   },
   "source": [
    "### Creating a UdaciousMusic Database"
   ]
  },
  {
   "cell_type": "code",
   "execution_count": 7,
   "metadata": {
    "collapsed": true
   },
   "outputs": [],
   "source": [
    "# Creating a new connection\n",
    "# If the database doesn't exists, it would be created\n",
    "conn = sqlite3.connect('../develop/db/UdaciousMusic.db')\n",
    "c = conn.cursor()"
   ]
  },
  {
   "cell_type": "markdown",
   "metadata": {
    "collapsed": true
   },
   "source": [
    "#### Creating the tables"
   ]
  },
  {
   "cell_type": "markdown",
   "metadata": {},
   "source": [
    "### <center> Album Table Schema </center>\n",
    "Columns | Data Type | Primary Key | Foreign Key\n",
    ":-----: | :-------: | :---------: | :---------:\n",
    "AlbumId | INTEGER   | YES         | NO\n",
    "Title   | TEXT      | NO          | NO\n",
    "ArtistId| INTEGER   | NO          | YES\n",
    "UnitPrice| REAL     | NO          | NO\n",
    "Quantity| INTEGER   | NO          | NO"
   ]
  },
  {
   "cell_type": "markdown",
   "metadata": {},
   "source": [
    "#### Arist Table"
   ]
  },
  {
   "cell_type": "code",
   "execution_count": 38,
   "metadata": {
    "collapsed": false
   },
   "outputs": [],
   "source": [
    "query = '''\n",
    "CREATE TABLE IF NOT EXISTS Artist(\n",
    "    ArtistId INTEGER PRIMARY KEY,\n",
    "    Name TEXT\n",
    ");\n",
    "'''\n",
    "\n",
    "execute_query(query)"
   ]
  },
  {
   "cell_type": "markdown",
   "metadata": {},
   "source": [
    "#### Album Table"
   ]
  },
  {
   "cell_type": "code",
   "execution_count": 8,
   "metadata": {
    "collapsed": false
   },
   "outputs": [],
   "source": [
    "query = '''\n",
    "CREATE TABLE IF NOT EXISTS Album(\n",
    "    AlbumId INTEGER PRIMARY KEY,\n",
    "    Title TEXT,\n",
    "    ArtistId INTEGER,\n",
    "    FOREIGN KEY (ArtistId) REFERENCES Artist (ArtistId)\n",
    ");\n",
    "'''\n",
    "\n",
    "execute_query(query)"
   ]
  },
  {
   "cell_type": "markdown",
   "metadata": {},
   "source": []
  },
  {
   "cell_type": "code",
   "execution_count": null,
   "metadata": {
    "collapsed": true
   },
   "outputs": [],
   "source": []
  }
 ],
 "metadata": {
  "anaconda-cloud": {},
  "kernelspec": {
   "display_name": "Python [py27]",
   "language": "python",
   "name": "Python [py27]"
  },
  "language_info": {
   "codemirror_mode": {
    "name": "ipython",
    "version": 2
   },
   "file_extension": ".py",
   "mimetype": "text/x-python",
   "name": "python",
   "nbconvert_exporter": "python",
   "pygments_lexer": "ipython2",
   "version": "2.7.12"
  }
 },
 "nbformat": 4,
 "nbformat_minor": 0
}
